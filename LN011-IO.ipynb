{
 "cells": [
  {
   "cell_type": "markdown",
   "metadata": {
    "slideshow": {
     "slide_type": "slide"
    }
   },
   "source": [
    "## Input and Output\n",
    "\n",
    "When you have Python perform some task, you need to feed it information---input. \n",
    "\n",
    "When it is done with that task, it reports back to you the results of its calculations---output."
   ]
  },
  {
   "cell_type": "markdown",
   "metadata": {
    "slideshow": {
     "slide_type": "slide"
    }
   },
   "source": [
    "## Keyboard input\n",
    "\n",
    "Python has a function called `input` for getting input from the user and assigning it a variable name. "
   ]
  },
  {
   "cell_type": "code",
   "execution_count": 3,
   "metadata": {
    "cocalc": {
     "outputs": {
      "0": {
       "name": "input",
       "opts": {
        "password": false,
        "prompt": "prompt to user"
       },
       "output_type": "stream",
       "value": "Shim"
      }
     }
    }
   },
   "outputs": [
    {
     "name": "stdin",
     "output_type": "stream",
     "text": [
      " 44\n"
     ]
    }
   ],
   "source": [
    "strname = input()"
   ]
  },
  {
   "cell_type": "code",
   "execution_count": 4,
   "metadata": {
    "slideshow": {
     "slide_type": "fragment"
    }
   },
   "outputs": [
    {
     "data": {
      "text/plain": [
       "'44'"
      ]
     },
     "execution_count": 4,
     "metadata": {},
     "output_type": "execute_result"
    }
   ],
   "source": [
    "strname"
   ]
  },
  {
   "cell_type": "markdown",
   "metadata": {
    "slideshow": {
     "slide_type": "slide"
    }
   },
   "source": [
    "When the `input` statement is executed, it prints the text in the quotes to the computer screen and waits for input from the user. The user types a string of characters and presses the return key. The `input` function then assigns that string to the variable name on the right of the assignment operator `=`."
   ]
  },
  {
   "cell_type": "code",
   "execution_count": 5,
   "metadata": {
    "cocalc": {
     "outputs": {
      "0": {
       "name": "input",
       "opts": {
        "password": false,
        "prompt": "Input distance of trip in miles: "
       },
       "output_type": "stream",
       "value": "450"
      }
     }
    }
   },
   "outputs": [
    {
     "name": "stdin",
     "output_type": "stream",
     "text": [
      "Input distance of trip in miles:  rr\n"
     ]
    }
   ],
   "source": [
    "distance = input(\"Input distance of trip in miles: \")"
   ]
  },
  {
   "cell_type": "markdown",
   "metadata": {
    "slideshow": {
     "slide_type": "fragment"
    }
   },
   "source": [
    "Python prints out the string argument of the `input` function and waits for a response from you. \n",
    "\n",
    "Type `450` for \"450 miles\" and press return. \n",
    "\n",
    "Now type the variable name `distance` to see its value"
   ]
  },
  {
   "cell_type": "code",
   "execution_count": 8,
   "metadata": {
    "slideshow": {
     "slide_type": "slide"
    }
   },
   "outputs": [
    {
     "data": {
      "text/plain": [
       "str"
      ]
     },
     "execution_count": 8,
     "metadata": {},
     "output_type": "execute_result"
    }
   ],
   "source": [
    "type(distance)"
   ]
  },
  {
   "cell_type": "markdown",
   "metadata": {
    "slideshow": {
     "slide_type": "fragment"
    }
   },
   "source": [
    "The value of the `distance` is `450` as expected, but it is a string. \n",
    "\n",
    "Because we want to use `450` as a number, we need to convert it from a string to a number."
   ]
  },
  {
   "cell_type": "code",
   "execution_count": 9,
   "metadata": {
    "slideshow": {
     "slide_type": "fragment"
    }
   },
   "outputs": [
    {
     "ename": "NameError",
     "evalue": "name 'rr' is not defined",
     "output_type": "error",
     "traceback": [
      "\u001b[0;31m---------------------------------------------------------------------------\u001b[0m",
      "\u001b[0;31mNameError\u001b[0m                                 Traceback (most recent call last)",
      "\u001b[0;32m<ipython-input-9-9cd0634d3df6>\u001b[0m in \u001b[0;36m<module>\u001b[0;34m\u001b[0m\n\u001b[0;32m----> 1\u001b[0;31m \u001b[0mdistance\u001b[0m \u001b[0;34m=\u001b[0m \u001b[0meval\u001b[0m\u001b[0;34m(\u001b[0m\u001b[0mdistance\u001b[0m\u001b[0;34m)\u001b[0m\u001b[0;34m\u001b[0m\u001b[0;34m\u001b[0m\u001b[0m\n\u001b[0m",
      "\u001b[0;32m<string>\u001b[0m in \u001b[0;36m<module>\u001b[0;34m\u001b[0m\n",
      "\u001b[0;31mNameError\u001b[0m: name 'rr' is not defined"
     ]
    }
   ],
   "source": [
    "distance = eval(distance)"
   ]
  },
  {
   "cell_type": "code",
   "execution_count": 10,
   "metadata": {
    "slideshow": {
     "slide_type": "fragment"
    }
   },
   "outputs": [
    {
     "data": {
      "text/plain": [
       "'rr'"
      ]
     },
     "execution_count": 10,
     "metadata": {},
     "output_type": "execute_result"
    }
   ],
   "source": [
    "distance"
   ]
  },
  {
   "cell_type": "markdown",
   "metadata": {
    "slideshow": {
     "slide_type": "slide"
    }
   },
   "source": [
    "The `eval` function has converted `distance` to an integer. However, we might prefer that `distance` be a float instead of an integer. "
   ]
  },
  {
   "cell_type": "code",
   "execution_count": 12,
   "metadata": {
    "cocalc": {
     "outputs": {
      "0": {
       "name": "input",
       "opts": {
        "password": false,
        "prompt": "Input distance of trip in miles: "
       },
       "output_type": "stream",
       "value": "200"
      }
     }
    }
   },
   "outputs": [
    {
     "name": "stdin",
     "output_type": "stream",
     "text": [
      "Input distance of trip in miles:  \n"
     ]
    }
   ],
   "source": [
    "distance = input(\"Input distance of trip in miles: \")"
   ]
  },
  {
   "cell_type": "code",
   "execution_count": null,
   "metadata": {
    "slideshow": {
     "slide_type": "fragment"
    }
   },
   "outputs": [],
   "source": [
    "distance"
   ]
  },
  {
   "cell_type": "code",
   "execution_count": null,
   "metadata": {
    "slideshow": {
     "slide_type": "fragment"
    }
   },
   "outputs": [],
   "source": [
    "distance = float(distance)"
   ]
  },
  {
   "cell_type": "code",
   "execution_count": null,
   "metadata": {
    "slideshow": {
     "slide_type": "fragment"
    }
   },
   "outputs": [],
   "source": [
    "round(1.9)"
   ]
  },
  {
   "cell_type": "markdown",
   "metadata": {
    "slideshow": {
     "slide_type": "slide"
    }
   },
   "source": [
    "## Make your code better"
   ]
  },
  {
   "cell_type": "code",
   "execution_count": null,
   "metadata": {
    "cocalc": {
     "outputs": {
      "0": {
       "name": "input",
       "opts": {
        "password": false,
        "prompt": "Input distance of trip in miles: "
       },
       "output_type": "stream",
       "value": "400"
      }
     }
    }
   },
   "outputs": [],
   "source": [
    "# Calculates time, gallons of gas used, and cost of gasoline for a trip\n",
    "distance = input(\"Input distance of trip in miles: \")\n",
    "distance = float(distance)\n",
    "mpg = 30.\n",
    "speed = 60.\n",
    "costPerGallon = 4.10\n",
    "time = distance / speed\n",
    "gallons = distance / mpg\n",
    "cost = gallons * costPerGallon"
   ]
  },
  {
   "cell_type": "markdown",
   "metadata": {
    "slideshow": {
     "slide_type": "slide"
    }
   },
   "source": [
    "Lines 4 and 5 can be combined into a single line, which is a little more efficient:\n",
    "\n",
    "\n",
    "```python\n",
    "distance = float(input(\"Input distance of trip in miles: \"))\n",
    "```"
   ]
  },
  {
   "cell_type": "code",
   "execution_count": null,
   "metadata": {},
   "outputs": [],
   "source": [
    "distance=float(input())"
   ]
  },
  {
   "cell_type": "markdown",
   "metadata": {
    "slideshow": {
     "slide_type": "slide"
    }
   },
   "source": [
    "## Screen output\n",
    "\n",
    "It would be much more convenient if the program in the previous section would simply write its output to the computer screen, instead of requiring the user to type `time`, `gallons`, and `cost` to view the results. This can be accomplished very simply using Python's `print` function. "
   ]
  },
  {
   "cell_type": "code",
   "execution_count": null,
   "metadata": {
    "cocalc": {
     "outputs": {
      "0": {
       "name": "input",
       "opts": {
        "password": false,
        "prompt": "Input distance of trip in miles: "
       },
       "output_type": "stream",
       "value": "50"
      }
     }
    }
   },
   "outputs": [],
   "source": [
    "# Calculates time, gallons of gas used, and cost of gasoline for a trip\n",
    "distance = input(\"Input distance of trip in miles: \")\n",
    "distance = float(distance)\n",
    "mpg = 30.\n",
    "speed = 60.\n",
    "costPerGallon = 4.10\n",
    "time = distance / speed\n",
    "gallons = distance / mpg\n",
    "cost = gallons * costPerGallon"
   ]
  },
  {
   "cell_type": "markdown",
   "metadata": {
    "slideshow": {
     "slide_type": "fragment"
    }
   },
   "source": [
    "The program prints out the results as a tuple of time (in hours), gasoline used (in gallons), and cost (in dollars)."
   ]
  },
  {
   "cell_type": "markdown",
   "metadata": {
    "slideshow": {
     "slide_type": "slide"
    }
   },
   "source": [
    "## Formatting output"
   ]
  },
  {
   "cell_type": "code",
   "execution_count": null,
   "metadata": {
    "cocalc": {
     "outputs": {
      "0": {
       "name": "input",
       "opts": {
        "password": false,
        "prompt": "Input distance of trip in miles: "
       },
       "output_type": "stream",
       "value": "10"
      }
     }
    }
   },
   "outputs": [],
   "source": [
    "distance = 450\n",
    "mpg = 30.\n",
    "speed = 60.\n",
    "costPerGallon = 4.10\n",
    "time = distance/speed\n",
    "gallons = distance/mpg\n",
    "cost = gallons*costPerGallon\n",
    "print(\"Duration of trip = %d %d hours\" % (round(time),int(time))) \n",
    "print(\"Gasoline used = %.4f gallons at %.2f mpg\" % (gallons, mpg))\n",
    "print(\"Cost of gasoline = %.2f\" % (cost))"
   ]
  },
  {
   "cell_type": "code",
   "execution_count": null,
   "metadata": {},
   "outputs": [],
   "source": [
    "a=1985445\n",
    "b=round(a/10)*10\n",
    "print(\"Cost of gasoline = %d\" % b)"
   ]
  },
  {
   "cell_type": "markdown",
   "metadata": {},
   "source": [
    "#### Some notes about $print$\n",
    "- only information within the \"\" will be printed\n",
    "- the '%.1f' means printing out the value with 1 digits, and etc.\n",
    "- the variables within the () after the % sign will be printed out.\n",
    "- the number and order of variables must match the number and order of '%' within the \"\""
   ]
  },
  {
   "cell_type": "code",
   "execution_count": null,
   "metadata": {},
   "outputs": [],
   "source": [
    "%f: floating\n",
    "%d: integer\n",
    "%e: scientific format\n",
    "%s: string"
   ]
  },
  {
   "cell_type": "markdown",
   "metadata": {
    "slideshow": {
     "slide_type": "slide"
    }
   },
   "source": [
    "## Printing arrays\n",
    "\n",
    "Formatting NumPy arrays for printing requires another approach. As an example, let's create an array and then format it in various ways. "
   ]
  },
  {
   "cell_type": "code",
   "execution_count": null,
   "metadata": {
    "slideshow": {
     "slide_type": "fragment"
    }
   },
   "outputs": [],
   "source": [
    "import numpy as np"
   ]
  },
  {
   "cell_type": "code",
   "execution_count": null,
   "metadata": {
    "slideshow": {
     "slide_type": "fragment"
    }
   },
   "outputs": [],
   "source": [
    "a = np.linspace(3, 19, 7)\n",
    "print(a)"
   ]
  },
  {
   "cell_type": "markdown",
   "metadata": {
    "slideshow": {
     "slide_type": "slide"
    }
   },
   "source": [
    "Simply using the `print` function does print out the array, but perhaps not in the format you desire. \n",
    "\n",
    "To control the output format, you use the NumPy function `set_printoptions`. \n",
    "\n",
    "For example, suppose you want to see no more than two digits to the right of the decimal point. Then you simply write"
   ]
  },
  {
   "cell_type": "code",
   "execution_count": null,
   "metadata": {
    "slideshow": {
     "slide_type": "fragment"
    }
   },
   "outputs": [],
   "source": [
    "np.set_printoptions(precision=2)"
   ]
  },
  {
   "cell_type": "code",
   "execution_count": null,
   "metadata": {
    "slideshow": {
     "slide_type": "fragment"
    }
   },
   "outputs": [],
   "source": [
    "print(a)"
   ]
  },
  {
   "cell_type": "markdown",
   "metadata": {
    "slideshow": {
     "slide_type": "slide"
    }
   },
   "source": [
    "If you want to change the number of digits to the right of the decimal point to 4, you set the keyword argument `precision` to 4"
   ]
  },
  {
   "cell_type": "code",
   "execution_count": null,
   "metadata": {
    "slideshow": {
     "slide_type": "fragment"
    }
   },
   "outputs": [],
   "source": [
    "np.set_printoptions(precision=4)"
   ]
  },
  {
   "cell_type": "code",
   "execution_count": null,
   "metadata": {
    "slideshow": {
     "slide_type": "fragment"
    }
   },
   "outputs": [],
   "source": [
    "print(a)"
   ]
  },
  {
   "cell_type": "markdown",
   "metadata": {
    "slideshow": {
     "slide_type": "slide"
    }
   },
   "source": [
    "To return to the default format, type the following"
   ]
  },
  {
   "cell_type": "code",
   "execution_count": null,
   "metadata": {
    "slideshow": {
     "slide_type": "fragment"
    }
   },
   "outputs": [],
   "source": [
    "np.set_printoptions(precision=8)"
   ]
  },
  {
   "cell_type": "code",
   "execution_count": null,
   "metadata": {
    "slideshow": {
     "slide_type": "fragment"
    }
   },
   "outputs": [],
   "source": [
    "print(a)"
   ]
  },
  {
   "cell_type": "markdown",
   "metadata": {
    "slideshow": {
     "slide_type": "slide"
    }
   },
   "source": [
    "The `set_printoptions` is a NumPy function, so if you use it in a script or program, you should call it by writing `np.set_printoptions`."
   ]
  },
  {
   "cell_type": "markdown",
   "metadata": {
    "slideshow": {
     "slide_type": "slide"
    }
   },
   "source": [
    "## File input\n",
    "\n",
    "### Reading data from a text file\n",
    "\n",
    "Often you would like to analyze data that you have stored in a text file. Consider, for example, the data file below for an experiment measuring the free fall of a mass."
   ]
  },
  {
   "cell_type": "code",
   "execution_count": null,
   "metadata": {
    "slideshow": {
     "slide_type": "slide"
    }
   },
   "outputs": [],
   "source": [
    "%less ./data/MyData.txt"
   ]
  },
  {
   "cell_type": "markdown",
   "metadata": {
    "slideshow": {
     "slide_type": "slide"
    }
   },
   "source": [
    "We would like to read these data into a Python program, associating the data in each column with an appropriately named array. \n",
    "\n",
    "While there are a multitude of ways to do this in Python, the simplest by far is to use the NumPy `loadtxt` function. "
   ]
  },
  {
   "cell_type": "markdown",
   "metadata": {
    "slideshow": {
     "slide_type": "slide"
    }
   },
   "source": [
    "Suppose that the name of the text file is `MyData.txt`. Then we can read the data into four different arrays with the following statement"
   ]
  },
  {
   "cell_type": "code",
   "execution_count": null,
   "metadata": {
    "slideshow": {
     "slide_type": "fragment"
    }
   },
   "outputs": [],
   "source": [
    "import numpy as np\n",
    "dataPt, time, height, error = np.loadtxt(\"./data/MyData.txt\", skiprows=5 , unpack=True)"
   ]
  },
  {
   "cell_type": "code",
   "execution_count": null,
   "metadata": {},
   "outputs": [],
   "source": [
    "help(np.loadtxt)"
   ]
  },
  {
   "cell_type": "markdown",
   "metadata": {
    "slideshow": {
     "slide_type": "slide"
    }
   },
   "source": [
    "```python\n",
    "dataPt, time, height, error = np.loadtxt(\"./data/MyData.txt\", skiprows=5 , unpack=True)\n",
    "```\n",
    "\n",
    "Arguments:\n",
    "\n",
    "1. the name of the file to be read\n",
    "\n",
    "2. skip the first 5 lines at the top of file, sometimes called the *header*\n",
    "\n",
    "3. output the data (*unpack* the data) so that it can be directly read into arrays. "
   ]
  },
  {
   "cell_type": "markdown",
   "metadata": {
    "slideshow": {
     "slide_type": "slide"
    }
   },
   "source": [
    "The names labeling the columns in the text file are not used, but you are free to choose the same or similar names, of course, as long as they are legal array names. \n",
    "\n",
    "If the file is not under your current folder, you need to specify the directory path with the file name.\n",
    "\n",
    "It is important that the data file is a *text* file. "
   ]
  },
  {
   "cell_type": "markdown",
   "metadata": {
    "slideshow": {
     "slide_type": "slide"
    }
   },
   "source": [
    "If you don't want to read in all the columns of data, you can specify which columns to read in using the `usecols` key word."
   ]
  },
  {
   "cell_type": "code",
   "execution_count": null,
   "metadata": {
    "slideshow": {
     "slide_type": "fragment"
    }
   },
   "outputs": [],
   "source": [
    "time, height = np.loadtxt('./data/MyData.txt', \n",
    "                       skiprows=5 , usecols = (1,2), unpack=True)\n",
    "time"
   ]
  },
  {
   "cell_type": "code",
   "execution_count": null,
   "metadata": {},
   "outputs": [],
   "source": [
    "#if ignore the unpack=True\n",
    "data= np.loadtxt('./data/MyData.txt', \n",
    "                       skiprows=5 , usecols = (1,2))\n",
    "data"
   ]
  },
  {
   "cell_type": "markdown",
   "metadata": {
    "slideshow": {
     "slide_type": "subslide"
    }
   },
   "source": [
    "reads in only columns 1 and 2; columns 0 and 3 are skipped. \n",
    "\n",
    "Only two array names are included to the left of the \"`=`\" sign, corresponding to the two column that are read.\n",
    "\n",
    "Writing `usecols = (0,2,3)` would skip column 1 and read in only the data in colums 0, 2, and 3. In this case, 3 array names would need to be provided on the left hand side of the \"`=`\" sign."
   ]
  },
  {
   "cell_type": "markdown",
   "metadata": {
    "slideshow": {
     "slide_type": "slide"
    }
   },
   "source": [
    "One convenient feature of the `loadtxt` function is that it recognizes any *white space* as a column separator: spaces, tabs, *etc.*\n",
    "\n",
    "Finally you should remember that `loadtxt` is a NumPy function. So if you are using it in a Python module, you must be sure to include an \"`import numpy as np`\" statement before calling \"`np.loadtxt`\"."
   ]
  },
  {
   "cell_type": "code",
   "execution_count": null,
   "metadata": {},
   "outputs": [],
   "source": [
    "time #check your reading is correct."
   ]
  },
  {
   "cell_type": "code",
   "execution_count": null,
   "metadata": {},
   "outputs": [],
   "source": [
    "%less ./data/MyData2.txt"
   ]
  },
  {
   "cell_type": "code",
   "execution_count": null,
   "metadata": {},
   "outputs": [],
   "source": [
    "dataPt, time, height, error = np.loadtxt(\"./data/MyData2.txt\", \\\n",
    "        unpack=True, delimiter=\",\")\n",
    "dataPt,time,height,error"
   ]
  },
  {
   "cell_type": "markdown",
   "metadata": {
    "slideshow": {
     "slide_type": "slide"
    }
   },
   "source": [
    "## Reading data from a CSV file\n",
    "\n",
    "Sometimes you have data stored in a spreadsheet program like Excel that you would like to read into a Python program. The fig-ExcelWindow shown here contains the same data set we saw above in a text file.\n",
    "<img src='./figs/ExcelDataFile.png' width=600>"
   ]
  },
  {
   "cell_type": "markdown",
   "metadata": {
    "slideshow": {
     "slide_type": "slide"
    }
   },
   "source": [
    "One of the most robust way is to save the spreadsheet as a CSV (\"comma separated value\") file, a format which all common spreadsheet programs can create and read. \n",
    "\n",
    "So, if your Excel spreadsheet was called `MyData.xlsx`, the CSV file saved using Excel's `Save As` command would by default be `MyData.csv`. It would look like this\n"
   ]
  },
  {
   "cell_type": "code",
   "execution_count": null,
   "metadata": {
    "slideshow": {
     "slide_type": "slide"
    }
   },
   "outputs": [],
   "source": [
    "%less ./data/MyData.csv"
   ]
  },
  {
   "cell_type": "markdown",
   "metadata": {
    "slideshow": {
     "slide_type": "slide"
    }
   },
   "source": [
    "The CSV file is simply a text file with the data that was formerly in spreadsheet columns now separated by commas. \n",
    "\n",
    "We can read the data in this file into a Python program using the `loadtxt` NumPy function once again. "
   ]
  },
  {
   "cell_type": "code",
   "execution_count": null,
   "metadata": {
    "slideshow": {
     "slide_type": "slide"
    }
   },
   "outputs": [],
   "source": [
    "dataPt, time, height, error = np.loadtxt(\"./data/MyData.csv\", \n",
    "                                      skiprows=5 , unpack=True, delimiter=',')"
   ]
  },
  {
   "cell_type": "markdown",
   "metadata": {
    "slideshow": {
     "slide_type": "fragment"
    }
   },
   "source": [
    "The form of the function is exactly the same as before except we have added the argument `delimiter=','` that tells `loadtxt` that the columns are separated by commas instead of white space (spaces or tabs), which is the default. "
   ]
  },
  {
   "cell_type": "code",
   "execution_count": null,
   "metadata": {},
   "outputs": [],
   "source": [
    "time"
   ]
  },
  {
   "cell_type": "markdown",
   "metadata": {},
   "source": [
    "# What if i need to read lots of files?"
   ]
  },
  {
   "cell_type": "markdown",
   "metadata": {
    "slideshow": {
     "slide_type": "slide"
    }
   },
   "source": [
    "## Writing data to a text file\n",
    "\n",
    "We will use one very simple one that's suitable for writing data files in text format. It uses the NumPy `savetxt` routine, which is the counterpart of the `loadtxt` routine. "
   ]
  },
  {
   "cell_type": "code",
   "execution_count": null,
   "metadata": {
    "slideshow": {
     "slide_type": "fragment"
    }
   },
   "outputs": [],
   "source": [
    "import numpy as np\n",
    "\n",
    "dataPt, time, height, error = np.loadtxt(\"./data/MyData.txt\", skiprows=5, unpack=True)\n",
    "\n",
    "np.savetxt('./data/MyDataOut.txt', np.array([dataPt, time, height]).T, fmt=\"%.1f\",delimiter=\",\")"
   ]
  },
  {
   "cell_type": "code",
   "execution_count": null,
   "metadata": {
    "slideshow": {
     "slide_type": "slide"
    }
   },
   "outputs": [],
   "source": [
    "%less ./data/MyDataOut.txt"
   ]
  },
  {
   "cell_type": "markdown",
   "metadata": {
    "slideshow": {
     "slide_type": "slide"
    }
   },
   "source": [
    "\n",
    "##### np.savetxt(filename, array, fmt=\"%0.18e\", delimiter=\" \", newline=\"\\n\", header=\"\", footer=\"\", comments=\"# \")\n",
    "\n",
    "\n",
    "__1.__ the name of the data file to be created. If there is already a file of that name on your computer, it will be overwritten.\n",
    "\n",
    "__2.__ the data array the is to be written to the data file. Because we want to write not one but four data arrays to the file, we have to package the four data arrays as one and then transpose to make them column.\n",
    "\n",
    "Note that the first two arguments, the filename and data array, are regular arguments and thus must appear as the first and second arguments in the correct order. "
   ]
  },
  {
   "cell_type": "markdown",
   "metadata": {
    "slideshow": {
     "slide_type": "slide"
    }
   },
   "source": [
    "\n",
    "##### np.savetxt(filename, array, fmt=\"%0.18e\", delimiter=\" \", newline=\"\\n\", header=\"\", footer=\"\", comments=\"# \")\n",
    "\n",
    "\n",
    "The remaining arguments are all keyword arguments, meaning that they are optional and can appear in any order.\n",
    "\n",
    "__3.__ a format string that determines how the elements of the array are displayed in the data file. We choose  `12.1f`, which is a float displayed with 1 digit to the right of the decimal point and a minimum width of 12. By choosing 12, which is more digits than any of the numbers in the various arrays have, we ensure that all the columns will have the same width. It also ensures that the decimal points in column of numbers are aligned. "
   ]
  },
  {
   "cell_type": "code",
   "execution_count": null,
   "metadata": {
    "slideshow": {
     "slide_type": "slide"
    }
   },
   "outputs": [],
   "source": [
    "%less ./data/MyDataOut.txt"
   ]
  },
  {
   "cell_type": "markdown",
   "metadata": {
    "slideshow": {
     "slide_type": "slide"
    }
   },
   "source": [
    "```python\n",
    "np.savetxt(filename, array, fmt=\"%0.18e\", delimiter=\" \", newline=\"\\n\", header=\"\", footer=\"\", comments=\"# \")\n",
    "```\n",
    "\n",
    "__4.__ `delimiter` keyword argument, which leaves the delimiter as the default space.\n",
    "\n",
    "__5.__ `header` keyword argument, which is a string variable that allows you to write header text above the data. \n"
   ]
  },
  {
   "cell_type": "code",
   "execution_count": null,
   "metadata": {
    "slideshow": {
     "slide_type": "slide"
    }
   },
   "outputs": [],
   "source": [
    "import numpy as np\n",
    "\n",
    "dataPt, time, height, error = np.loadtxt(\"./data/MyData.txt\",\n",
    "                                 skiprows=5, unpack=True)\n",
    "info = 'Data for falling mass experiment'\n",
    "info = info+ '\\nDate: 16-Aug-2013'\n",
    "info += info+'\\nData taken by Lauren and John'\n",
    "info += '\\ndata point time (sec) height (mm) ' \n",
    "info += 'uncertainty (mm)'\n",
    "\n",
    "np.savetxt('./data/MyDataOut.txt', np.array([dataPt, time, height, error]).T, header=info, fmt=\"%12.1f\", comments=\"\")"
   ]
  },
  {
   "cell_type": "markdown",
   "metadata": {
    "slideshow": {
     "slide_type": "slide"
    }
   },
   "source": [
    "Now the data file produces has a header preceding the data. Notice that the header rows all start with a `#` comment character, which is the default setting for the `savetxt` function. This can be changed using the keyword argument `comments`. You can find more information about `savetxt` using the IPython `help` function or from the online NumPy documentation."
   ]
  },
  {
   "cell_type": "code",
   "execution_count": null,
   "metadata": {
    "slideshow": {
     "slide_type": "slide"
    }
   },
   "outputs": [],
   "source": [
    "%less ./data/MyDataOut.txt"
   ]
  },
  {
   "cell_type": "markdown",
   "metadata": {
    "slideshow": {
     "slide_type": "slide"
    }
   },
   "source": [
    "## Writing data to a CSV file\n",
    "\n",
    "To produce a CSV file, you would specify a comma as the delimiter. You might use the `0.1f` format specifier, which leaves no extra spaces between the comma data separators, as the file is to be read by a spreadsheet program, which will determine how the numbers are displayed. The code, which could be substituted for the `savetxt` line in the above code reads."
   ]
  },
  {
   "cell_type": "code",
   "execution_count": null,
   "metadata": {
    "slideshow": {
     "slide_type": "fragment"
    }
   },
   "outputs": [],
   "source": [
    "np.savetxt('./data/MyDataOut.csv', np.array([dataPt, time, height, error]).T, fmt=\"%0.1f\", delimiter=\",\")"
   ]
  },
  {
   "cell_type": "markdown",
   "metadata": {},
   "source": [
    "# [Exercise 04](EX04-IO.ipynb)"
   ]
  },
  {
   "cell_type": "code",
   "execution_count": 5,
   "metadata": {},
   "outputs": [
    {
     "name": "stdout",
     "output_type": "stream",
     "text": [
      "1.000000e+00\n",
      "2.000000e+00\n",
      "2.000000e+00\n",
      "3.000000e+00\n",
      "4.000000e+00\n",
      "5.000000e+00\n",
      "\n"
     ]
    }
   ],
   "source": [
    "import numpy as np\n",
    "a=np.array([1,2,2,3,4,5])\n",
    "print((a.size*\"%e\\n\") % tuple(a))"
   ]
  },
  {
   "cell_type": "code",
   "execution_count": 30,
   "metadata": {},
   "outputs": [
    {
     "name": "stdout",
     "output_type": "stream",
     "text": [
      " 28.87 21.80 67.68 50.33  55.9961  28.9883  13.3306  36.0683  16.6715  26.6184  41.0768\n"
     ]
    }
   ],
   "source": [
    "import numpy as np\n",
    "dat = np.random.random((10,11))*100  # Array of random values between 0 and 100\n",
    "#print(dat)                           # Lines get truncated and are hard to read\n",
    "for i in range(1):\n",
    "    print((4*\"%6.2f\"+7*\"%9.4f\") % tuple(dat[i,:]))"
   ]
  }
 ],
 "metadata": {
  "celltoolbar": "Slideshow",
  "kernelspec": {
   "display_name": "Python 3",
   "language": "python",
   "name": "python3"
  },
  "language_info": {
   "codemirror_mode": {
    "name": "ipython",
    "version": 3
   },
   "file_extension": ".py",
   "mimetype": "text/x-python",
   "name": "python",
   "nbconvert_exporter": "python",
   "pygments_lexer": "ipython3",
   "version": "3.7.4"
  }
 },
 "nbformat": 4,
 "nbformat_minor": 4
}
