{
 "cells": [
  {
   "cell_type": "markdown",
   "metadata": {},
   "source": [
    "# Assignment 3 (loops and conditions)\n",
    "#### 140 points"
   ]
  },
  {
   "cell_type": "markdown",
   "metadata": {},
   "source": [
    "__(Instruction)__ The purpose of this assignment is to practice using for and while loops and if-elif-else conditions\n",
    "\n",
    "* Although there are functions available in Python to do most of the problems in this assignment, it is important that we know how to solve these problems using loops and conditions. This way, we can handle more complex work that cannot be done by pre-existing functions. In addition, we can also make our own functions by using loops and conditions. In such case, we are not limited by the resources online.\n",
    "\n",
    "Due date: March 1st, 2019, 11:59pm"
   ]
  },
  {
   "cell_type": "markdown",
   "metadata": {},
   "source": [
    "### Question 1\n",
    "Write a program to calculate the factorial of a positive integer input by the user. Recall that the factorial function is given by $x! = x (x-1) (x-2) ... (2) (1)$ so that $1!=1$, $2!=2$, $3!=6$, $4!=24$, ..."
   ]
  },
  {
   "cell_type": "markdown",
   "metadata": {},
   "source": [
    "(a) Write the factorial function using a Python `while` loop. \n",
    "* (5 points)"
   ]
  },
  {
   "cell_type": "code",
   "execution_count": null,
   "metadata": {},
   "outputs": [],
   "source": []
  },
  {
   "cell_type": "markdown",
   "metadata": {},
   "source": [
    "(b) Write the factorial function using a Python `for` loop. \n",
    "*(5 points)"
   ]
  },
  {
   "cell_type": "code",
   "execution_count": null,
   "metadata": {},
   "outputs": [],
   "source": []
  },
  {
   "cell_type": "markdown",
   "metadata": {},
   "source": [
    "(c) With a given integral number n, write a program to generate a dictionary that contains (i, factorial of i) such that is an integral number between 1 and n (both included) \n",
    "\n",
    "Suppose the following input is supplied to the program:\n",
    "8\n",
    "\n",
    "Then, the output should be:\n",
    "{1: 1, 2: 2, 3: 6, 4: 24, 5: 120, 6: 720, 7: 5040, 8: 40320}\n",
    "* (10 points)"
   ]
  },
  {
   "cell_type": "code",
   "execution_count": null,
   "metadata": {},
   "outputs": [],
   "source": []
  },
  {
   "cell_type": "markdown",
   "metadata": {},
   "source": [
    "### Question 2\n",
    "Write a program which will find all such numbers which are divisible by 7 but are not a multiple of 5, between 2000 and 3200 (both included).\n",
    "* (5 points)"
   ]
  },
  {
   "cell_type": "code",
   "execution_count": null,
   "metadata": {},
   "outputs": [],
   "source": []
  },
  {
   "cell_type": "markdown",
   "metadata": {},
   "source": [
    "### Question 3\n",
    "(a) Consider the matrix list `x = [[1, 2, 3], [4, 5, 6], [7, 8, 9]]`. Write a list comprehension to extract the last column of the matrix \\[3, 6, 9\\].\n",
    "* (5 points)"
   ]
  },
  {
   "cell_type": "code",
   "execution_count": 5,
   "metadata": {},
   "outputs": [],
   "source": [
    "x = [[1, 2, 3], [4, 5, 6], [7, 8, 9]]"
   ]
  },
  {
   "cell_type": "code",
   "execution_count": null,
   "metadata": {},
   "outputs": [],
   "source": []
  },
  {
   "cell_type": "markdown",
   "metadata": {},
   "source": [
    "(b) Write another list comprehension to create a vector of twice the square of the middle column `[8, 50, 128]`.\n",
    "* (5 points)"
   ]
  },
  {
   "cell_type": "code",
   "execution_count": null,
   "metadata": {},
   "outputs": [],
   "source": []
  },
  {
   "cell_type": "markdown",
   "metadata": {},
   "source": [
    "### Question 4\n",
    "In EX07, we have worked together to write a code to read the file earthquake.csv and assign each column to a list. We now want to further examine this earthquake catalog."
   ]
  },
  {
   "cell_type": "markdown",
   "metadata": {},
   "source": [
    "The code is shown below"
   ]
  },
  {
   "cell_type": "code",
   "execution_count": 1,
   "metadata": {},
   "outputs": [],
   "source": [
    "import numpy as np\n",
    "fp=open(\"earthquake.csv\",\"r\")\n",
    "lines=fp.readlines()\n",
    "fp.close()\n",
    "year=[];month=[];day=[];time=[];mag=[];lon=[];lat=[];depth=[];region=[]\n",
    "for line in lines[1:]:\n",
    "    if \"\\\"\" in line:\n",
    "        temp=line.split(\",\")\n",
    "        year.append(temp[0]);month.append(temp[1])\n",
    "        day.append(temp[2]);time.append(temp[3])\n",
    "        mag.append(temp[4]);lon.append(temp[5]);lat.append(temp[6])\n",
    "        depth.append(temp[7]);region.append(temp[8]+\",\"+temp[9])\n",
    "    else:\n",
    "        temp=line.split(\",\")\n",
    "        year.append(temp[0]);month.append(temp[1])\n",
    "        day.append(temp[2]);time.append(temp[3])\n",
    "        mag.append(temp[4]);lon.append(temp[5]);lat.append(temp[6])\n",
    "        depth.append(temp[7]);region.append(temp[8])"
   ]
  },
  {
   "cell_type": "markdown",
   "metadata": {},
   "source": [
    "The code above will give you variables of 'year', 'month', 'day', 'time', 'mag', 'lon', 'lat', 'depth', and 'regoin'. All these variables have `list` data type.\n",
    "__Be careful that  Each element within the lists has `string` data type.__ Therefore, you will need to first convert strings to numbers before apply mathmatic operations on it."
   ]
  },
  {
   "cell_type": "code",
   "execution_count": 2,
   "metadata": {},
   "outputs": [
    {
     "name": "stdout",
     "output_type": "stream",
     "text": [
      "10 10.0 10\n"
     ]
    }
   ],
   "source": [
    "# To convert a string to a number, we use float() or int() functions\n",
    "a=\"10\"\n",
    "b=float(a)\n",
    "c=int(a)\n",
    "print(a,b,c)"
   ]
  },
  {
   "cell_type": "markdown",
   "metadata": {},
   "source": [
    "(a) Use `for` loop, or list comprehension to convert all elements in the lists of 'mag','lon','lat',and 'depth' to floating numbers, and all elements in 'year', 'month', and 'day' to integer numbers. Remember, only change the data type of each element, and do not change the variable names.\n",
    "* (10 points)"
   ]
  },
  {
   "cell_type": "code",
   "execution_count": null,
   "metadata": {},
   "outputs": [],
   "source": []
  },
  {
   "cell_type": "markdown",
   "metadata": {},
   "source": [
    "(b) Using `for` loop to calculate the average magnitude of the earthquakes in this catalog.\n",
    "* (10 points)"
   ]
  },
  {
   "cell_type": "code",
   "execution_count": null,
   "metadata": {},
   "outputs": [],
   "source": []
  },
  {
   "cell_type": "markdown",
   "metadata": {},
   "source": [
    "(c) Calculate the average depth of the earthquakes whose magnitude is larger than 2.0\n",
    "* (15 points)"
   ]
  },
  {
   "cell_type": "code",
   "execution_count": null,
   "metadata": {},
   "outputs": [],
   "source": []
  },
  {
   "cell_type": "markdown",
   "metadata": {},
   "source": [
    "(d) Use loop and condition to find the maximum depth of the earthquakes\n",
    "* (20 points)"
   ]
  },
  {
   "cell_type": "code",
   "execution_count": null,
   "metadata": {},
   "outputs": [],
   "source": []
  },
  {
   "cell_type": "markdown",
   "metadata": {},
   "source": [
    "(e) In which region(s) does the largest earthquake(s) happen?\n",
    "* (25 points)"
   ]
  },
  {
   "cell_type": "code",
   "execution_count": null,
   "metadata": {},
   "outputs": [],
   "source": []
  },
  {
   "cell_type": "markdown",
   "metadata": {},
   "source": [
    "(f) In which region(s) and at what year, month, day and time do the deepest earthquake(s) happen?\n",
    "* (30 points)"
   ]
  },
  {
   "cell_type": "code",
   "execution_count": null,
   "metadata": {},
   "outputs": [],
   "source": []
  }
 ],
 "metadata": {
  "kernelspec": {
   "display_name": "Python 3",
   "language": "python",
   "name": "python3"
  },
  "language_info": {
   "codemirror_mode": {
    "name": "ipython",
    "version": 3
   },
   "file_extension": ".py",
   "mimetype": "text/x-python",
   "name": "python",
   "nbconvert_exporter": "python",
   "pygments_lexer": "ipython3",
   "version": "3.7.1"
  }
 },
 "nbformat": 4,
 "nbformat_minor": 2
}
