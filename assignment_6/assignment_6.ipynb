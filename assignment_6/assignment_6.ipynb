{
 "cells": [
  {
   "cell_type": "markdown",
   "metadata": {},
   "source": [
    "# Assignment 6 (Pandas and a small project)\n"
   ]
  },
  {
   "cell_type": "markdown",
   "metadata": {},
   "source": [
    "Due date: Dec. 1st, 2020, 11:59pm"
   ]
  },
  {
   "cell_type": "code",
   "execution_count": 9,
   "metadata": {},
   "outputs": [],
   "source": [
    "import numpy as np\n",
    "import pandas as pd"
   ]
  },
  {
   "cell_type": "markdown",
   "metadata": {},
   "source": [
    "# Question 1: pandas"
   ]
  },
  {
   "cell_type": "markdown",
   "metadata": {},
   "source": [
    "__(Instruction)__ The purpose of this question is to practice using Pandas module \n",
    "* We did the problems in this homework before in Assignment #3 using loops and conditions. In assignment #6, please use functions in Pandas. No 'for' or 'while' loops and 'if' conditions are allowed.\n"
   ]
  },
  {
   "cell_type": "markdown",
   "metadata": {},
   "source": [
    "#### 90 points"
   ]
  },
  {
   "cell_type": "markdown",
   "metadata": {},
   "source": [
    "### (a) read the csv file named 'earthquake.csv' under the same current folder, and assign the data to a variable named 'eq'\n",
    "(5 points)"
   ]
  },
  {
   "cell_type": "code",
   "execution_count": 3,
   "metadata": {},
   "outputs": [],
   "source": [
    "#Enter your codes here"
   ]
  },
  {
   "cell_type": "markdown",
   "metadata": {},
   "source": [
    "### (b) Calculate the average magnitude of earthquakes in this catalog\n",
    "(10 points)"
   ]
  },
  {
   "cell_type": "code",
   "execution_count": 3,
   "metadata": {},
   "outputs": [],
   "source": [
    "#Enter your codes here"
   ]
  },
  {
   "cell_type": "markdown",
   "metadata": {},
   "source": [
    "### (c) Calculate the average depth of the earthquakes whose magnitude is larger than 2.0\n",
    "(10 points)"
   ]
  },
  {
   "cell_type": "code",
   "execution_count": 7,
   "metadata": {},
   "outputs": [
    {
     "data": {
      "text/plain": [
       "45.59810606060604"
      ]
     },
     "execution_count": 7,
     "metadata": {},
     "output_type": "execute_result"
    }
   ],
   "source": [
    "#Enter your codes here"
   ]
  },
  {
   "cell_type": "markdown",
   "metadata": {},
   "source": [
    "### (d) Find the maximum depth of the earthquakes\n",
    "(10 points)"
   ]
  },
  {
   "cell_type": "code",
   "execution_count": 8,
   "metadata": {},
   "outputs": [
    {
     "data": {
      "text/plain": [
       "573.9"
      ]
     },
     "execution_count": 8,
     "metadata": {},
     "output_type": "execute_result"
    }
   ],
   "source": [
    "#Enter your codes here"
   ]
  },
  {
   "cell_type": "markdown",
   "metadata": {},
   "source": [
    "### (e) In which region(s) does the largest earthquake(s) happen?\n",
    "(15 points)"
   ]
  },
  {
   "cell_type": "code",
   "execution_count": 13,
   "metadata": {},
   "outputs": [
    {
     "data": {
      "text/html": [
       "<div>\n",
       "<style scoped>\n",
       "    .dataframe tbody tr th:only-of-type {\n",
       "        vertical-align: middle;\n",
       "    }\n",
       "\n",
       "    .dataframe tbody tr th {\n",
       "        vertical-align: top;\n",
       "    }\n",
       "\n",
       "    .dataframe thead th {\n",
       "        text-align: right;\n",
       "    }\n",
       "</style>\n",
       "<table border=\"1\" class=\"dataframe\">\n",
       "  <thead>\n",
       "    <tr style=\"text-align: right;\">\n",
       "      <th></th>\n",
       "      <th>Region</th>\n",
       "    </tr>\n",
       "  </thead>\n",
       "  <tbody>\n",
       "    <tr>\n",
       "      <th>562</th>\n",
       "      <td>MINDANAO, PHILIPPINES</td>\n",
       "    </tr>\n",
       "  </tbody>\n",
       "</table>\n",
       "</div>"
      ],
      "text/plain": [
       "                    Region\n",
       "562  MINDANAO, PHILIPPINES"
      ]
     },
     "execution_count": 13,
     "metadata": {},
     "output_type": "execute_result"
    }
   ],
   "source": [
    "#Enter your codes here"
   ]
  },
  {
   "cell_type": "markdown",
   "metadata": {},
   "source": [
    "### (f) In which region(s) and at what year, month, day and time do the deepest earthquake(s) happen?\n",
    "(20 points)"
   ]
  },
  {
   "cell_type": "code",
   "execution_count": 17,
   "metadata": {},
   "outputs": [
    {
     "data": {
      "text/html": [
       "<div>\n",
       "<style scoped>\n",
       "    .dataframe tbody tr th:only-of-type {\n",
       "        vertical-align: middle;\n",
       "    }\n",
       "\n",
       "    .dataframe tbody tr th {\n",
       "        vertical-align: top;\n",
       "    }\n",
       "\n",
       "    .dataframe thead th {\n",
       "        text-align: right;\n",
       "    }\n",
       "</style>\n",
       "<table border=\"1\" class=\"dataframe\">\n",
       "  <thead>\n",
       "    <tr style=\"text-align: right;\">\n",
       "      <th></th>\n",
       "      <th>Year</th>\n",
       "      <th>Month</th>\n",
       "      <th>Day</th>\n",
       "      <th>Time UTC</th>\n",
       "      <th>Region</th>\n",
       "    </tr>\n",
       "  </thead>\n",
       "  <tbody>\n",
       "    <tr>\n",
       "      <th>25</th>\n",
       "      <td>2019</td>\n",
       "      <td>2</td>\n",
       "      <td>10</td>\n",
       "      <td>22:54:37</td>\n",
       "      <td>FLORES SEA</td>\n",
       "    </tr>\n",
       "  </tbody>\n",
       "</table>\n",
       "</div>"
      ],
      "text/plain": [
       "    Year  Month  Day  Time UTC      Region\n",
       "25  2019      2   10  22:54:37  FLORES SEA"
      ]
     },
     "execution_count": 17,
     "metadata": {},
     "output_type": "execute_result"
    }
   ],
   "source": [
    "#Enter your codes here"
   ]
  },
  {
   "cell_type": "markdown",
   "metadata": {},
   "source": [
    "### (g) How many earthquakes happend in HAWAII\n",
    "- hint: use the value_counts() function in pandas and combine it with 'loc' function\n",
    "(20 points)"
   ]
  },
  {
   "cell_type": "markdown",
   "metadata": {},
   "source": [
    "# Question 2\n",
    "90 points"
   ]
  },
  {
   "cell_type": "code",
   "execution_count": 18,
   "metadata": {},
   "outputs": [
    {
     "data": {
      "text/html": [
       "<div>\n",
       "<style scoped>\n",
       "    .dataframe tbody tr th:only-of-type {\n",
       "        vertical-align: middle;\n",
       "    }\n",
       "\n",
       "    .dataframe tbody tr th {\n",
       "        vertical-align: top;\n",
       "    }\n",
       "\n",
       "    .dataframe thead th {\n",
       "        text-align: right;\n",
       "    }\n",
       "</style>\n",
       "<table border=\"1\" class=\"dataframe\">\n",
       "  <thead>\n",
       "    <tr style=\"text-align: right;\">\n",
       "      <th></th>\n",
       "      <th>Year</th>\n",
       "      <th>Month</th>\n",
       "      <th>Day</th>\n",
       "      <th>Time UTC</th>\n",
       "      <th>Mag</th>\n",
       "      <th>Lat</th>\n",
       "      <th>Lon</th>\n",
       "      <th>Depth km</th>\n",
       "      <th>Region</th>\n",
       "      <th>IRIS ID</th>\n",
       "      <th>Timestamp</th>\n",
       "      <th>LonT</th>\n",
       "      <th>LatT</th>\n",
       "    </tr>\n",
       "  </thead>\n",
       "  <tbody>\n",
       "    <tr>\n",
       "      <th>0</th>\n",
       "      <td>2019</td>\n",
       "      <td>4</td>\n",
       "      <td>1</td>\n",
       "      <td>0.421806</td>\n",
       "      <td>5.2</td>\n",
       "      <td>33.5771</td>\n",
       "      <td>45.8180</td>\n",
       "      <td>10.0</td>\n",
       "      <td>IRAN-IRAQ BORDER REGION</td>\n",
       "      <td>11021006</td>\n",
       "      <td>1554113244</td>\n",
       "      <td>46</td>\n",
       "      <td>34</td>\n",
       "    </tr>\n",
       "    <tr>\n",
       "      <th>1</th>\n",
       "      <td>2019</td>\n",
       "      <td>4</td>\n",
       "      <td>1</td>\n",
       "      <td>0.341343</td>\n",
       "      <td>5.5</td>\n",
       "      <td>7.5503</td>\n",
       "      <td>94.3786</td>\n",
       "      <td>10.0</td>\n",
       "      <td>NICOBAR ISLANDS, INDIA REGION</td>\n",
       "      <td>11020989</td>\n",
       "      <td>1554106292</td>\n",
       "      <td>94</td>\n",
       "      <td>8</td>\n",
       "    </tr>\n",
       "    <tr>\n",
       "      <th>2</th>\n",
       "      <td>2019</td>\n",
       "      <td>4</td>\n",
       "      <td>1</td>\n",
       "      <td>0.244896</td>\n",
       "      <td>5.2</td>\n",
       "      <td>7.5330</td>\n",
       "      <td>94.3784</td>\n",
       "      <td>10.0</td>\n",
       "      <td>NICOBAR ISLANDS, INDIA REGION</td>\n",
       "      <td>11020962</td>\n",
       "      <td>1554097959</td>\n",
       "      <td>94</td>\n",
       "      <td>8</td>\n",
       "    </tr>\n",
       "    <tr>\n",
       "      <th>3</th>\n",
       "      <td>2019</td>\n",
       "      <td>4</td>\n",
       "      <td>1</td>\n",
       "      <td>0.173079</td>\n",
       "      <td>5.0</td>\n",
       "      <td>7.4768</td>\n",
       "      <td>94.2256</td>\n",
       "      <td>10.0</td>\n",
       "      <td>NICOBAR ISLANDS, INDIA REGION</td>\n",
       "      <td>11020944</td>\n",
       "      <td>1554091754</td>\n",
       "      <td>94</td>\n",
       "      <td>7</td>\n",
       "    </tr>\n",
       "    <tr>\n",
       "      <th>4</th>\n",
       "      <td>2019</td>\n",
       "      <td>4</td>\n",
       "      <td>1</td>\n",
       "      <td>0.151470</td>\n",
       "      <td>5.0</td>\n",
       "      <td>7.5409</td>\n",
       "      <td>94.1708</td>\n",
       "      <td>10.0</td>\n",
       "      <td>NICOBAR ISLANDS, INDIA REGION</td>\n",
       "      <td>11020930</td>\n",
       "      <td>1554089887</td>\n",
       "      <td>94</td>\n",
       "      <td>8</td>\n",
       "    </tr>\n",
       "    <tr>\n",
       "      <th>...</th>\n",
       "      <td>...</td>\n",
       "      <td>...</td>\n",
       "      <td>...</td>\n",
       "      <td>...</td>\n",
       "      <td>...</td>\n",
       "      <td>...</td>\n",
       "      <td>...</td>\n",
       "      <td>...</td>\n",
       "      <td>...</td>\n",
       "      <td>...</td>\n",
       "      <td>...</td>\n",
       "      <td>...</td>\n",
       "      <td>...</td>\n",
       "    </tr>\n",
       "    <tr>\n",
       "      <th>24995</th>\n",
       "      <td>2007</td>\n",
       "      <td>2</td>\n",
       "      <td>17</td>\n",
       "      <td>0.387905</td>\n",
       "      <td>5.3</td>\n",
       "      <td>-7.3036</td>\n",
       "      <td>155.8563</td>\n",
       "      <td>45.8</td>\n",
       "      <td>SOLOMON ISLANDS</td>\n",
       "      <td>2454532</td>\n",
       "      <td>1171703915</td>\n",
       "      <td>156</td>\n",
       "      <td>-7</td>\n",
       "    </tr>\n",
       "    <tr>\n",
       "      <th>24996</th>\n",
       "      <td>2007</td>\n",
       "      <td>2</td>\n",
       "      <td>17</td>\n",
       "      <td>0.331111</td>\n",
       "      <td>5.0</td>\n",
       "      <td>-7.3720</td>\n",
       "      <td>155.8650</td>\n",
       "      <td>57.3</td>\n",
       "      <td>SOLOMON ISLANDS</td>\n",
       "      <td>2454309</td>\n",
       "      <td>1171699008</td>\n",
       "      <td>156</td>\n",
       "      <td>-7</td>\n",
       "    </tr>\n",
       "    <tr>\n",
       "      <th>24997</th>\n",
       "      <td>2007</td>\n",
       "      <td>2</td>\n",
       "      <td>17</td>\n",
       "      <td>0.324873</td>\n",
       "      <td>5.6</td>\n",
       "      <td>-7.2819</td>\n",
       "      <td>155.8838</td>\n",
       "      <td>28.1</td>\n",
       "      <td>SOLOMON ISLANDS</td>\n",
       "      <td>2454283</td>\n",
       "      <td>1171698469</td>\n",
       "      <td>156</td>\n",
       "      <td>-7</td>\n",
       "    </tr>\n",
       "    <tr>\n",
       "      <th>24998</th>\n",
       "      <td>2007</td>\n",
       "      <td>2</td>\n",
       "      <td>17</td>\n",
       "      <td>0.321933</td>\n",
       "      <td>5.7</td>\n",
       "      <td>-7.3579</td>\n",
       "      <td>155.8189</td>\n",
       "      <td>34.6</td>\n",
       "      <td>SOLOMON ISLANDS</td>\n",
       "      <td>2454247</td>\n",
       "      <td>1171698215</td>\n",
       "      <td>156</td>\n",
       "      <td>-7</td>\n",
       "    </tr>\n",
       "    <tr>\n",
       "      <th>24999</th>\n",
       "      <td>2007</td>\n",
       "      <td>2</td>\n",
       "      <td>17</td>\n",
       "      <td>0.167963</td>\n",
       "      <td>5.1</td>\n",
       "      <td>-3.5994</td>\n",
       "      <td>151.2621</td>\n",
       "      <td>440.0</td>\n",
       "      <td>NEW IRELAND REGION, P.N.G.</td>\n",
       "      <td>2453760</td>\n",
       "      <td>1171684912</td>\n",
       "      <td>151</td>\n",
       "      <td>-4</td>\n",
       "    </tr>\n",
       "  </tbody>\n",
       "</table>\n",
       "<p>25000 rows × 13 columns</p>\n",
       "</div>"
      ],
      "text/plain": [
       "       Year  Month  Day  Time UTC  Mag      Lat       Lon  Depth km  \\\n",
       "0      2019      4    1  0.421806  5.2  33.5771   45.8180      10.0   \n",
       "1      2019      4    1  0.341343  5.5   7.5503   94.3786      10.0   \n",
       "2      2019      4    1  0.244896  5.2   7.5330   94.3784      10.0   \n",
       "3      2019      4    1  0.173079  5.0   7.4768   94.2256      10.0   \n",
       "4      2019      4    1  0.151470  5.0   7.5409   94.1708      10.0   \n",
       "...     ...    ...  ...       ...  ...      ...       ...       ...   \n",
       "24995  2007      2   17  0.387905  5.3  -7.3036  155.8563      45.8   \n",
       "24996  2007      2   17  0.331111  5.0  -7.3720  155.8650      57.3   \n",
       "24997  2007      2   17  0.324873  5.6  -7.2819  155.8838      28.1   \n",
       "24998  2007      2   17  0.321933  5.7  -7.3579  155.8189      34.6   \n",
       "24999  2007      2   17  0.167963  5.1  -3.5994  151.2621     440.0   \n",
       "\n",
       "                              Region   IRIS ID   Timestamp  LonT  LatT  \n",
       "0            IRAN-IRAQ BORDER REGION  11021006  1554113244    46    34  \n",
       "1      NICOBAR ISLANDS, INDIA REGION  11020989  1554106292    94     8  \n",
       "2      NICOBAR ISLANDS, INDIA REGION  11020962  1554097959    94     8  \n",
       "3      NICOBAR ISLANDS, INDIA REGION  11020944  1554091754    94     7  \n",
       "4      NICOBAR ISLANDS, INDIA REGION  11020930  1554089887    94     8  \n",
       "...                              ...       ...         ...   ...   ...  \n",
       "24995                SOLOMON ISLANDS   2454532  1171703915   156    -7  \n",
       "24996                SOLOMON ISLANDS   2454309  1171699008   156    -7  \n",
       "24997                SOLOMON ISLANDS   2454283  1171698469   156    -7  \n",
       "24998                SOLOMON ISLANDS   2454247  1171698215   156    -7  \n",
       "24999     NEW IRELAND REGION, P.N.G.   2453760  1171684912   151    -4  \n",
       "\n",
       "[25000 rows x 13 columns]"
      ]
     },
     "execution_count": 18,
     "metadata": {},
     "output_type": "execute_result"
    }
   ],
   "source": [
    "import pandas as pd\n",
    "import numpy as np\n",
    "le=pd.read_csv('./Large_Eq.csv')\n",
    "le['LonT']=np.select([(le.Lon>0),(le.Lon<0)],[round(le.Lon).astype(int),round(le.Lon+360.0).astype(int)])\n",
    "le['LatT']=round(le.Lat).astype(int)\n",
    "le"
   ]
  },
  {
   "cell_type": "code",
   "execution_count": 7,
   "metadata": {},
   "outputs": [],
   "source": [
    "# We will compete with each other on the timing. \n",
    "# I will give 5 extra points to the final grade to the student whose codes run fatest without mistake."
   ]
  },
  {
   "cell_type": "markdown",
   "metadata": {},
   "source": [
    "in this question, we will use all we have learned about Python to do a project about big data processing. We observe earthquakes and topography on the Earth’s surface. The goal of this project is to determine the correlation between these two, or to check if large earthquakes preferentially occur in regions with high or low topography.\n",
    "\n",
    "There are 2 data files in this folder:\n",
    "“Large-Eq.csv”: an earthquake catalog containing 25,000 events with a magnitude >5.0 since year 2007. The data structure is the same as the other earthquake catalog files we used in this class.\n",
    "“topo.dat”: topography data. The 3 columns are Longitude, latitude, and elevation, respectively.\n",
    "\n",
    "1. You will eventually make a plot showing the relationship between the number of earthquakes and the elevation, e.g., a plot in which the horizontal axis is the elevation and the vertical axis is the number of earthquakes. I provide an example figure in the example.pdf file. However, you can make any plot that you want and the details of the figure depend on your choice. The key is that people should easily find under what elevation the earthquakes happen the most by reading your plot. If you want to make histograms, you will need to study by your self through online materials.\n",
    "2. Your codes should run without problem. \n",
    "3. Your codes should be readable to me. Please include as many comments as you think is necessary\n",
    "4. Group discussion is encouraged. However, do not copy others’ codes. \n",
    "5. Make your code run as fast as possible. When you turn in your codes, provide information on how long it takes to run the code on your computer.\n",
    "6. Grades will be based on both the correctness and the readability of the codes.\n",
    "\n",
    "\n",
    "Important hints: \n",
    "1. in the earthquake catalog, the longitude ranges from -180o to 180o. The negative values indicate in the west and the positive values indicate in the east. However, in the topography data, the longitude ranges from 0o to 360o, which means 0-180 degree is in the eastern hemisphere and 180-360 degrees is in the western hemisphere. In both cases, the 0o is defined as the Zero degrees longitude which is an imaginary line known as the Prime Meridian, and you are moving eastward as the longitude increases.\n",
    "2. the grid points of (longitude, latitude) in the earthquake catalog often does not match the grid points in the topography data. Therefore, you need to be creative when finding the elevation for an earthquake from the topography file, e.g., choosing the closest grid points in topo.dat, or do intepolation."
   ]
  },
  {
   "cell_type": "code",
   "execution_count": null,
   "metadata": {},
   "outputs": [],
   "source": []
  }
 ],
 "metadata": {
  "kernelspec": {
   "display_name": "Python 3",
   "language": "python",
   "name": "python3"
  },
  "language_info": {
   "codemirror_mode": {
    "name": "ipython",
    "version": 3
   },
   "file_extension": ".py",
   "mimetype": "text/x-python",
   "name": "python",
   "nbconvert_exporter": "python",
   "pygments_lexer": "ipython3",
   "version": "3.7.4"
  }
 },
 "nbformat": 4,
 "nbformat_minor": 4
}
