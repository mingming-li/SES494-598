{
 "cells": [
  {
   "cell_type": "markdown",
   "metadata": {},
   "source": [
    "# Class Inheritance"
   ]
  },
  {
   "cell_type": "markdown",
   "metadata": {},
   "source": [
    "Inheritance is the process by which one class takes on the attributes and methods of another. Newly formed classes are called child classes, and the classes that child classes are derived from are called parent classes.\n",
    "\n",
    "It’s important to note that child classes override or extend the functionality (e.g., attributes and behaviors) of parent classes. "
   ]
  },
  {
   "cell_type": "code",
   "execution_count": 17,
   "metadata": {},
   "outputs": [],
   "source": [
    "# Parent class\n",
    "class Dog:\n",
    "\n",
    "    # Class attribute\n",
    "    species = 'mammal'\n",
    "\n",
    "    # Initializer / Instance attributes\n",
    "    def __init__(self, name, age):\n",
    "        self.name = name\n",
    "        self.age = age\n",
    "\n",
    "    # instance method\n",
    "    def description(self):\n",
    "        return (\"%s is %d years old\" % (self.name, self.age))\n",
    "\n",
    "    # instance method\n",
    "    def speak(self, sound):\n",
    "        return (\"%s says %s\" % (self.name, sound))\n",
    "\n",
    "\n",
    "# Child class (inherits from Dog class)\n",
    "class Bulldog(Dog):\n",
    "    def run(self, speed):\n",
    "        return \"%s runs %s\" % (self.name, speed)"
   ]
  },
  {
   "cell_type": "code",
   "execution_count": 18,
   "metadata": {},
   "outputs": [],
   "source": [
    "jim = Bulldog(\"Jim\", 12)"
   ]
  },
  {
   "cell_type": "code",
   "execution_count": 19,
   "metadata": {},
   "outputs": [
    {
     "data": {
      "text/plain": [
       "'Jim is 12 years old'"
      ]
     },
     "execution_count": 19,
     "metadata": {},
     "output_type": "execute_result"
    }
   ],
   "source": [
    "# Child classes inherit attributes and\n",
    "# behaviors from the parent class\n",
    "jim.description()"
   ]
  },
  {
   "cell_type": "code",
   "execution_count": 20,
   "metadata": {},
   "outputs": [
    {
     "name": "stdout",
     "output_type": "stream",
     "text": [
      "Jim runs slowly\n"
     ]
    }
   ],
   "source": [
    "# Child classes have specific attributes\n",
    "# and behaviors as well\n",
    "print(jim.run(\"slowly\"))"
   ]
  },
  {
   "cell_type": "code",
   "execution_count": 21,
   "metadata": {},
   "outputs": [
    {
     "data": {
      "text/plain": [
       "['__class__',\n",
       " '__delattr__',\n",
       " '__dict__',\n",
       " '__dir__',\n",
       " '__doc__',\n",
       " '__eq__',\n",
       " '__format__',\n",
       " '__ge__',\n",
       " '__getattribute__',\n",
       " '__gt__',\n",
       " '__hash__',\n",
       " '__init__',\n",
       " '__init_subclass__',\n",
       " '__le__',\n",
       " '__lt__',\n",
       " '__module__',\n",
       " '__ne__',\n",
       " '__new__',\n",
       " '__reduce__',\n",
       " '__reduce_ex__',\n",
       " '__repr__',\n",
       " '__setattr__',\n",
       " '__sizeof__',\n",
       " '__str__',\n",
       " '__subclasshook__',\n",
       " '__weakref__',\n",
       " 'age',\n",
       " 'description',\n",
       " 'name',\n",
       " 'run',\n",
       " 'speak',\n",
       " 'species']"
      ]
     },
     "execution_count": 21,
     "metadata": {},
     "output_type": "execute_result"
    }
   ],
   "source": [
    "dir(jim)"
   ]
  },
  {
   "cell_type": "code",
   "execution_count": 6,
   "metadata": {},
   "outputs": [
    {
     "data": {
      "text/plain": [
       "['__class__',\n",
       " '__delattr__',\n",
       " '__dict__',\n",
       " '__dir__',\n",
       " '__doc__',\n",
       " '__eq__',\n",
       " '__format__',\n",
       " '__ge__',\n",
       " '__getattribute__',\n",
       " '__gt__',\n",
       " '__hash__',\n",
       " '__init__',\n",
       " '__init_subclass__',\n",
       " '__le__',\n",
       " '__lt__',\n",
       " '__module__',\n",
       " '__ne__',\n",
       " '__new__',\n",
       " '__reduce__',\n",
       " '__reduce_ex__',\n",
       " '__repr__',\n",
       " '__setattr__',\n",
       " '__sizeof__',\n",
       " '__str__',\n",
       " '__subclasshook__',\n",
       " '__weakref__',\n",
       " 'description',\n",
       " 'speak',\n",
       " 'species']"
      ]
     },
     "execution_count": 6,
     "metadata": {},
     "output_type": "execute_result"
    }
   ],
   "source": [
    "dir(Dog)"
   ]
  },
  {
   "cell_type": "markdown",
   "metadata": {},
   "source": [
    "#### Practice: write a class named 'alldog' which is inherited from class 'Bulldog'. Write a function in 'alldog' class to return the gender of a dog"
   ]
  },
  {
   "cell_type": "code",
   "execution_count": 22,
   "metadata": {},
   "outputs": [],
   "source": [
    "# Child class (inherits from Bulldog class)\n",
    "class alldog(Bulldog):\n",
    "    def gender(self,value):\n",
    "        self.gender=value\n",
    "        return \"%s is %s\" % (self.name, self.gender)"
   ]
  },
  {
   "cell_type": "code",
   "execution_count": 23,
   "metadata": {},
   "outputs": [
    {
     "name": "stdout",
     "output_type": "stream",
     "text": [
      "Bingo is male\n",
      "Bingo runs fast\n"
     ]
    }
   ],
   "source": [
    "#this code should work after you create teh alldog class\n",
    "bingo=alldog('Bingo',1)\n",
    "print(bingo.gender('male'))\n",
    "print(bingo.run('fast'))"
   ]
  },
  {
   "cell_type": "code",
   "execution_count": null,
   "metadata": {},
   "outputs": [],
   "source": []
  },
  {
   "cell_type": "markdown",
   "metadata": {},
   "source": [
    "# OOP Example: use python class to process seismograms"
   ]
  },
  {
   "cell_type": "code",
   "execution_count": 24,
   "metadata": {},
   "outputs": [],
   "source": [
    "import numpy as np\n",
    "import matplotlib.pyplot as plt"
   ]
  },
  {
   "cell_type": "markdown",
   "metadata": {},
   "source": [
    "Get a list of files under certain folder"
   ]
  },
  {
   "cell_type": "code",
   "execution_count": 25,
   "metadata": {},
   "outputs": [],
   "source": [
    "import glob\n",
    "files=glob.glob(\"./data/2019-02-08-mww59-mindanao-philippines/*BHZ*\")"
   ]
  },
  {
   "cell_type": "code",
   "execution_count": 26,
   "metadata": {},
   "outputs": [],
   "source": [
    "#define a class object name seismogram\n",
    "class seismogram:\n",
    "#the initial function will read the seismic data and save important information to attributes\n",
    "    def __init__(self,filename):\n",
    "        self.filename=filename\n",
    "        fp=open(self.filename,\"r\")\n",
    "        lines=fp.readlines()\n",
    "        fp.close()     \n",
    "        temp=lines[0].split()\n",
    "        self.freq=float(temp[0])\n",
    "        f=float(temp[0])\n",
    "        temp=lines[6].split()\n",
    "        self.lat=float(temp[1])\n",
    "        self.lon=float(temp[2])\n",
    "        temp=lines[10].split()\n",
    "        self.distance=float(temp[3])\n",
    "        temp=lines[14].split()\n",
    "        self.year=int(temp[0])\n",
    "        self.day=int(temp[1])\n",
    "        self.starttime=int(temp[2])*3600+int(temp[3])*60+int(temp[4])\n",
    "        temp=lines[22].split()\n",
    "        self.staname=temp[0]\n",
    "        data=[]\n",
    "        t=[]\n",
    "        j=0\n",
    "        for line in lines[30:]:\n",
    "            temp=line.split()\n",
    "            for i in temp:\n",
    "                data.append(float(i))\n",
    "                t.append(j)\n",
    "                j=j+f\n",
    "        self.data=np.array(data)\n",
    "        self.t=np.array(t)\n",
    "    def max_amp(self):\n",
    "        self.max_amp=np.abs(self.data).max()\n",
    "        return self.max_amp\n",
    "    def plot(self):\n",
    "        plt.plot(self.t,self.data)"
   ]
  },
  {
   "cell_type": "code",
   "execution_count": 27,
   "metadata": {},
   "outputs": [
    {
     "data": {
      "text/plain": [
       "13.1434"
      ]
     },
     "execution_count": 27,
     "metadata": {},
     "output_type": "execute_result"
    }
   ],
   "source": [
    "#read all data\n",
    "sta=[]\n",
    "for f in files:\n",
    "    s=seismogram(f)\n",
    "    sta.append(s)\n",
    "a=sta[0].lat\n",
    "a"
   ]
  },
  {
   "cell_type": "code",
   "execution_count": 28,
   "metadata": {},
   "outputs": [
    {
     "data": {
      "image/png": "[encoded data removed]",
      "text/plain": [
       "<Figure size 432x288 with 1 Axes>"
      ]
     },
     "metadata": {
      "needs_background": "light"
     },
     "output_type": "display_data"
    }
   ],
   "source": [
    "sta[15].plot()"
   ]
  },
  {
   "cell_type": "markdown",
   "metadata": {},
   "source": [
    "# copy a lot of files to a different directory with different names"
   ]
  },
  {
   "cell_type": "code",
   "execution_count": 32,
   "metadata": {},
   "outputs": [],
   "source": [
    "# copy files with a different name\n",
    "import os\n",
    "import shutil\n",
    "for s in sta:\n",
    "    file='./data/eq/%06d.%s.dat' % (s.distance,s.staname)\n",
    "    shutil.copy(sta[0].filename,file)"
   ]
  }
 ],
 "metadata": {
  "kernelspec": {
   "display_name": "Python 3",
   "language": "python",
   "name": "python3"
  },
  "language_info": {
   "codemirror_mode": {
    "name": "ipython",
    "version": 3
   },
   "file_extension": ".py",
   "mimetype": "text/x-python",
   "name": "python",
   "nbconvert_exporter": "python",
   "pygments_lexer": "ipython3",
   "version": "3.7.4"
  }
 },
 "nbformat": 4,
 "nbformat_minor": 4
}
