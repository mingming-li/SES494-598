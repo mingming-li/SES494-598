{
 "cells": [
  {
   "cell_type": "markdown",
   "metadata": {},
   "source": [
    "# SES494-598-2020-Fall-final-exam\n",
    "(150 points)"
   ]
  },
  {
   "cell_type": "markdown",
   "metadata": {},
   "source": [
    "* __Exam format__: open book and take home. \n",
    "* __Exam time__: From \"9:00 am, Dec. 3, 2020\" to \"9:00 am, Dec. 4, 2020\"\n",
    "* __Submit exam__: Send the Jupyter notebook file to the instructor (mingming.li@asu.edu)\n",
    "* __Exam policy__:\n",
    "    - You can check the lecture notes and search online for solutions. However, you can not discuss it with other students and you can not ask for help from any other people\n",
    "    - Let the instructor know if any question is unclear by sending emails. The instructor will only clarify the questions, and will not give any answers and hints to you.\n",
    "    - The instructor will have the zoom meeting open on Dec. 3rd at 9:00 - 10:30 AM, Thursday, and you can ask questions for clarification during this time. If you need more time to finish the exam, you can take the exam home without penalty. However, you must submit your exam no later than 9:00 am, Dec. 4, 2020.\n",
    "    - Work on easy problems first\n",
    "    - __Exam submission after 9:00 am, Dec. 4, 2020 will not be considered.__"
   ]
  },
  {
   "cell_type": "code",
   "execution_count": 1,
   "metadata": {},
   "outputs": [],
   "source": [
    "from IPython.display import Image"
   ]
  },
  {
   "cell_type": "markdown",
   "metadata": {},
   "source": [
    "# Question 1\n",
    "(5 points)"
   ]
  },
  {
   "cell_type": "markdown",
   "metadata": {},
   "source": [
    "In a 'Markdown' cell, write the following functions"
   ]
  },
  {
   "cell_type": "markdown",
   "metadata": {},
   "source": [
    "<img src=\"equation.png\" width=\"300\">"
   ]
  },
  {
   "cell_type": "markdown",
   "metadata": {},
   "source": [
    "Put your code below"
   ]
  },
  {
   "cell_type": "code",
   "execution_count": null,
   "metadata": {},
   "outputs": [],
   "source": []
  },
  {
   "cell_type": "markdown",
   "metadata": {},
   "source": [
    "# Question 2\n",
    "(10 points)"
   ]
  },
  {
   "cell_type": "markdown",
   "metadata": {},
   "source": [
    "Write a code to automatically show how many times the letter 'h' appears in the string of __'There was a farmer had a dog and Bingo was his name-O'__"
   ]
  },
  {
   "cell_type": "code",
   "execution_count": 3,
   "metadata": {},
   "outputs": [],
   "source": [
    "# put your code here"
   ]
  },
  {
   "cell_type": "markdown",
   "metadata": {},
   "source": [
    "# Question 3\n",
    "(10 points)"
   ]
  },
  {
   "cell_type": "markdown",
   "metadata": {},
   "source": [
    "Write a code to automatically count how many words are in the string of __'There was a farmer had a dog and Bingo was his name-O'__"
   ]
  },
  {
   "cell_type": "code",
   "execution_count": 4,
   "metadata": {},
   "outputs": [],
   "source": [
    "# put your code here"
   ]
  },
  {
   "cell_type": "markdown",
   "metadata": {},
   "source": [
    "# Question 4\n",
    "(15 points)"
   ]
  },
  {
   "cell_type": "markdown",
   "metadata": {},
   "source": [
    "For the string of __'There was a farmer had a dog and Bingo was his name-O'__, write a code to insert a comma between the word 'dog' and the word 'and', and insert a period at the end of this string. \n",
    "- Print out the string as \"There was a farmer had a dog, and his name was Bingo.\"\n",
    "- use 'split' and 'join' functions in string"
   ]
  },
  {
   "cell_type": "code",
   "execution_count": 5,
   "metadata": {},
   "outputs": [],
   "source": [
    "# put your code here"
   ]
  },
  {
   "cell_type": "markdown",
   "metadata": {},
   "source": [
    "# Question 5\n",
    "(20 points)"
   ]
  },
  {
   "cell_type": "markdown",
   "metadata": {},
   "source": [
    "The file `comprehensive-exam.txt` is extracted from the SESE graduate student guide book. Write a code to read this file and count how many times the word 'student' appears in this file\n",
    "- hint: you may consider use the readline() function to read files. Example of readline() function is provided in assignment #5"
   ]
  },
  {
   "cell_type": "code",
   "execution_count": 6,
   "metadata": {},
   "outputs": [],
   "source": [
    "# put your code here"
   ]
  },
  {
   "cell_type": "markdown",
   "metadata": {},
   "source": [
    "# Question 6\n",
    "(5 points)"
   ]
  },
  {
   "cell_type": "markdown",
   "metadata": {},
   "source": [
    "Create a numpy array starting from 0, ending at 100, and with a step of 2"
   ]
  },
  {
   "cell_type": "code",
   "execution_count": 7,
   "metadata": {},
   "outputs": [],
   "source": [
    "# put your code here"
   ]
  },
  {
   "cell_type": "markdown",
   "metadata": {},
   "source": [
    "# Question 7\n",
    "(5 points)"
   ]
  },
  {
   "cell_type": "markdown",
   "metadata": {},
   "source": [
    "Create an evenly spaced numpy array starting from 0, ending at $\\pi$, with 100 data points."
   ]
  },
  {
   "cell_type": "code",
   "execution_count": 8,
   "metadata": {},
   "outputs": [],
   "source": [
    "# put your code here"
   ]
  },
  {
   "cell_type": "markdown",
   "metadata": {},
   "source": [
    "# Question 8\n",
    "(25 points, with 5 points per bullet question)"
   ]
  },
  {
   "cell_type": "markdown",
   "metadata": {},
   "source": [
    "Read the data `random-number.txt` and write a code to:\n",
    "1. remove duplicate numbers (only keep 1 number when the number appears more than once in the list)\n",
    "2. remove negative numbers\n",
    "3. sort the new list of numbers in __decending__ order. \n",
    "4. Print out the new sorted numbers.\n",
    "5. Save the new sorted numbers in a file named `sorted-number.txt`"
   ]
  },
  {
   "cell_type": "code",
   "execution_count": 9,
   "metadata": {},
   "outputs": [],
   "source": [
    "# put your code here"
   ]
  },
  {
   "cell_type": "markdown",
   "metadata": {},
   "source": [
    "# Question 9\n",
    "(20 points)"
   ]
  },
  {
   "cell_type": "markdown",
   "metadata": {},
   "source": [
    "I wrote a code to compute the length, average value and the summation of 1000 random numbers."
   ]
  },
  {
   "cell_type": "markdown",
   "metadata": {},
   "source": [
    "Correct the bugs in the following codes."
   ]
  },
  {
   "cell_type": "code",
   "execution_count": 1,
   "metadata": {},
   "outputs": [
    {
     "ename": "SyntaxError",
     "evalue": "invalid syntax (<ipython-input-1-0af944c3b6ba>, line 9)",
     "output_type": "error",
     "traceback": [
      "\u001b[1;36m  File \u001b[1;32m\"<ipython-input-1-0af944c3b6ba>\"\u001b[1;36m, line \u001b[1;32m9\u001b[0m\n\u001b[1;33m    def sum(self)\u001b[0m\n\u001b[1;37m                 ^\u001b[0m\n\u001b[1;31mSyntaxError\u001b[0m\u001b[1;31m:\u001b[0m invalid syntax\n"
     ]
    }
   ],
   "source": [
    "# code with bugs\n",
    "x = np.random.normal(size=1000)\n",
    "class arrays:\n",
    "    def __ini__(self,data):\n",
    "        self.dat=data\n",
    "    def ave(self,x):\n",
    "        self.ave=self.data.mean\n",
    "    return self.a\n",
    "    def sum(self)\n",
    "        self.s=sum(self.data)\n",
    "    return self.s\n",
    "a=arrays(self,x)"
   ]
  },
  {
   "cell_type": "code",
   "execution_count": null,
   "metadata": {},
   "outputs": [],
   "source": [
    "# put your corrected code here\n"
   ]
  },
  {
   "cell_type": "markdown",
   "metadata": {},
   "source": [
    "After you correct the bugs, the following code need to print out the average value and the summartion of the 1000 random numbers. You need to get the right answer."
   ]
  },
  {
   "cell_type": "code",
   "execution_count": null,
   "metadata": {},
   "outputs": [],
   "source": [
    "print(a.ave(),a.sum())"
   ]
  },
  {
   "cell_type": "markdown",
   "metadata": {},
   "source": [
    "# Question 10\n",
    "(15 points; 5 points per bullet question)"
   ]
  },
  {
   "cell_type": "markdown",
   "metadata": {},
   "source": [
    "- Read a (x,y) dataset from `line_data.txt`\n",
    "- Fit the data with a straight line. Plot the data together with the fit line. Use close circle symbols for the data and a blue line for the fit line. Provide legend\n",
    "- print out the fitting constants and the fitting residual (take the squre root of the residual). "
   ]
  },
  {
   "cell_type": "code",
   "execution_count": 10,
   "metadata": {},
   "outputs": [],
   "source": [
    "# put your code here"
   ]
  },
  {
   "cell_type": "markdown",
   "metadata": {},
   "source": [
    "# Question 11\n",
    "(20 points, with 5 points per bullet question)"
   ]
  },
  {
   "cell_type": "markdown",
   "metadata": {},
   "source": [
    "Use pandas to:\n",
    "    - read the file 'earthquake.csv'\n",
    "    - find where did the largest earthquake happen\n",
    "    - find the average depth of earthquakes whose magnitude is larger than 2.0\n",
    "    - find the number of earthquakes happend in HAWAII region"
   ]
  },
  {
   "cell_type": "markdown",
   "metadata": {},
   "source": [
    "- read the file 'earthquake.csv'"
   ]
  },
  {
   "cell_type": "code",
   "execution_count": null,
   "metadata": {},
   "outputs": [],
   "source": [
    "# put your code here"
   ]
  },
  {
   "cell_type": "markdown",
   "metadata": {},
   "source": [
    "- find the largest magnitude of earthquake and where did the largest earthquake happen. Only show one earthquake."
   ]
  },
  {
   "cell_type": "code",
   "execution_count": null,
   "metadata": {},
   "outputs": [],
   "source": [
    "# put your code here"
   ]
  },
  {
   "cell_type": "markdown",
   "metadata": {},
   "source": [
    "- find the average depth of earthquakes whose magnitude is larger than 4.0"
   ]
  },
  {
   "cell_type": "code",
   "execution_count": null,
   "metadata": {},
   "outputs": [],
   "source": [
    "# put your code here"
   ]
  },
  {
   "cell_type": "markdown",
   "metadata": {},
   "source": [
    "- find the number of earthquakes happend in HAWAII region"
   ]
  },
  {
   "cell_type": "code",
   "execution_count": null,
   "metadata": {},
   "outputs": [],
   "source": [
    "# put your code here"
   ]
  }
 ],
 "metadata": {
  "kernelspec": {
   "display_name": "Python 3",
   "language": "python",
   "name": "python3"
  },
  "language_info": {
   "codemirror_mode": {
    "name": "ipython",
    "version": 3
   },
   "file_extension": ".py",
   "mimetype": "text/x-python",
   "name": "python",
   "nbconvert_exporter": "python",
   "pygments_lexer": "ipython3",
   "version": "3.7.4"
  }
 },
 "nbformat": 4,
 "nbformat_minor": 4
}
