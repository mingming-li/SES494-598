{
 "cells": [
  {
   "cell_type": "markdown",
   "metadata": {},
   "source": [
    "# Class"
   ]
  },
  {
   "cell_type": "markdown",
   "metadata": {},
   "source": [
    "The following information about Python Class is based on the online materials at [realpython.com](https://realpython.com/python3-object-oriented-programming/#classes-in-python)"
   ]
  },
  {
   "cell_type": "markdown",
   "metadata": {},
   "source": [
    "The primitive data structures available in Python, like numbers, strings, and lists are designed to represent simple things like the cost of something, the name of a poem, and your favorite colors, respectively.\n",
    "\n",
    "_Classes_ are used to create new user-defined data structures that contain arbitrary information about something.\n",
    "\n",
    "It’s important to note that a class just provides structure—it’s a blueprint for how something should be defined, but it doesn’t actually provide any real content itself."
   ]
  },
  {
   "cell_type": "markdown",
   "metadata": {},
   "source": [
    "After you 'fill' a class with some information, you make an $instance$\n",
    "\n",
    "Put another way, a class is like a form or questionnaire. It defines the needed information. After you fill out the form, your specific copy is an instance of the class; it contains actual information relevant to you."
   ]
  },
  {
   "cell_type": "markdown",
   "metadata": {},
   "source": [
    "## Define a class"
   ]
  },
  {
   "cell_type": "markdown",
   "metadata": {},
   "source": [
    "Defining a class is simple in Python:"
   ]
  },
  {
   "cell_type": "code",
   "execution_count": 1,
   "metadata": {},
   "outputs": [],
   "source": [
    "class Dog:\n",
    "    pass"
   ]
  },
  {
   "cell_type": "markdown",
   "metadata": {},
   "source": [
    "You start with the class keyword to indicate that you are creating a class, then you add the name of the class"
   ]
  },
  {
   "cell_type": "markdown",
   "metadata": {},
   "source": [
    "Also, we used the Python keyword pass here. This is very often used as a place holder where code will eventually go. It allows us to run this code without throwing an error."
   ]
  },
  {
   "cell_type": "markdown",
   "metadata": {},
   "source": [
    "All classes create objects, and all objects contain characteristics called attributes"
   ]
  },
  {
   "cell_type": "code",
   "execution_count": 2,
   "metadata": {},
   "outputs": [
    {
     "data": {
      "text/plain": [
       "['__class__',\n",
       " '__delattr__',\n",
       " '__dict__',\n",
       " '__dir__',\n",
       " '__doc__',\n",
       " '__eq__',\n",
       " '__format__',\n",
       " '__ge__',\n",
       " '__getattribute__',\n",
       " '__gt__',\n",
       " '__hash__',\n",
       " '__init__',\n",
       " '__init_subclass__',\n",
       " '__le__',\n",
       " '__lt__',\n",
       " '__module__',\n",
       " '__ne__',\n",
       " '__new__',\n",
       " '__reduce__',\n",
       " '__reduce_ex__',\n",
       " '__repr__',\n",
       " '__setattr__',\n",
       " '__sizeof__',\n",
       " '__str__',\n",
       " '__subclasshook__',\n",
       " '__weakref__']"
      ]
     },
     "execution_count": 2,
     "metadata": {},
     "output_type": "execute_result"
    }
   ],
   "source": [
    "philo=Dog()\n",
    "dir(philo)"
   ]
  },
  {
   "cell_type": "code",
   "execution_count": 15,
   "metadata": {},
   "outputs": [],
   "source": [
    "class Dog:\n",
    "    # Instance Attributes\n",
    "    def __init__(self, name, age):\n",
    "        self.name = name\n",
    "        self.age = age"
   ]
  },
  {
   "cell_type": "markdown",
   "metadata": {},
   "source": [
    "Use the $__init__()$ method to initialize (e.g., specify) an object’s initial attributes by giving them their default value (or state).\n",
    "\n",
    "Note that we only define a data structure above. We haven't give real data yet. \n",
    "\n",
    "Here, the 'self' is a placeholder, which will be later replaced by the name of an object. The 'self.name' and 'self.age' are instance attibutes, which are specific to each object.  "
   ]
  },
  {
   "cell_type": "code",
   "execution_count": 10,
   "metadata": {},
   "outputs": [],
   "source": [
    "philo = Dog(\"Philo\", 5)"
   ]
  },
  {
   "cell_type": "code",
   "execution_count": 11,
   "metadata": {},
   "outputs": [
    {
     "data": {
      "text/plain": [
       "5"
      ]
     },
     "execution_count": 11,
     "metadata": {},
     "output_type": "execute_result"
    }
   ],
   "source": [
    "philo.age"
   ]
  },
  {
   "cell_type": "code",
   "execution_count": 12,
   "metadata": {},
   "outputs": [],
   "source": [
    "mikey = Dog(\"Mikey\", 6)"
   ]
  },
  {
   "cell_type": "code",
   "execution_count": 13,
   "metadata": {},
   "outputs": [
    {
     "data": {
      "text/plain": [
       "6"
      ]
     },
     "execution_count": 13,
     "metadata": {},
     "output_type": "execute_result"
    }
   ],
   "source": [
    "mikey.age"
   ]
  },
  {
   "cell_type": "code",
   "execution_count": 14,
   "metadata": {},
   "outputs": [
    {
     "data": {
      "text/plain": [
       "10"
      ]
     },
     "execution_count": 14,
     "metadata": {},
     "output_type": "execute_result"
    }
   ],
   "source": [
    "mikey.a"
   ]
  },
  {
   "cell_type": "markdown",
   "metadata": {},
   "source": [
    "### Class attributes"
   ]
  },
  {
   "cell_type": "code",
   "execution_count": null,
   "metadata": {},
   "outputs": [],
   "source": []
  },
  {
   "cell_type": "code",
   "execution_count": 16,
   "metadata": {},
   "outputs": [],
   "source": [
    "class Dog:\n",
    "\n",
    "    # Class Attribute\n",
    "    species = 'mammal'\n",
    "\n",
    "    # Instance Attributes\n",
    "    def __init__(self, name, age):\n",
    "        self.name = name\n",
    "        self.age = age"
   ]
  },
  {
   "cell_type": "markdown",
   "metadata": {},
   "source": [
    "While instance attributes are specific to each object, class attributes are the same for all instances—which in this case is all dogs.\n",
    "\n",
    "The 'species' is a common attibutes for all dogs. So while each dog has a unique name and age, every dog will be a mammal."
   ]
  },
  {
   "cell_type": "markdown",
   "metadata": {},
   "source": [
    "Now, we have finished defining a class named Dog. We can start to use this class."
   ]
  },
  {
   "cell_type": "code",
   "execution_count": 17,
   "metadata": {},
   "outputs": [],
   "source": [
    "philo = Dog(\"Philo\", 5)\n",
    "mikey = Dog(\"Mikey\", 6)"
   ]
  },
  {
   "cell_type": "code",
   "execution_count": 18,
   "metadata": {},
   "outputs": [
    {
     "data": {
      "text/plain": [
       "'mammal'"
      ]
     },
     "execution_count": 18,
     "metadata": {},
     "output_type": "execute_result"
    }
   ],
   "source": [
    "mikey.species"
   ]
  },
  {
   "cell_type": "code",
   "execution_count": 19,
   "metadata": {},
   "outputs": [
    {
     "data": {
      "text/plain": [
       "'mammal'"
      ]
     },
     "execution_count": 19,
     "metadata": {},
     "output_type": "execute_result"
    }
   ],
   "source": [
    "philo.species"
   ]
  },
  {
   "cell_type": "code",
   "execution_count": 20,
   "metadata": {},
   "outputs": [],
   "source": [
    "class Dog:\n",
    "\n",
    "    # Class Attribute\n",
    "    species = 'mammal'\n",
    "\n",
    "    # Initializer / Instance Attributes\n",
    "    def __init__(self, name, age):\n",
    "        self.name = name\n",
    "        self.age = age\n",
    "\n",
    "    # instance method\n",
    "    def description(self):\n",
    "        return (\"%s is %d years old\" % (self.name, self.age))\n",
    "\n",
    "    # instance method\n",
    "    def speak(self, sound='Gruff Gruff'):\n",
    "        return (\"%s says %s\" % (self.name, sound))"
   ]
  },
  {
   "cell_type": "code",
   "execution_count": 21,
   "metadata": {},
   "outputs": [],
   "source": [
    "mikey = Dog(\"Mikey\", 6)"
   ]
  },
  {
   "cell_type": "code",
   "execution_count": 22,
   "metadata": {},
   "outputs": [
    {
     "data": {
      "text/plain": [
       "'Mikey is 6 years old'"
      ]
     },
     "execution_count": 22,
     "metadata": {},
     "output_type": "execute_result"
    }
   ],
   "source": [
    "mikey.description()"
   ]
  },
  {
   "cell_type": "code",
   "execution_count": 23,
   "metadata": {},
   "outputs": [
    {
     "data": {
      "text/plain": [
       "'Mikey says Wang Wang'"
      ]
     },
     "execution_count": 23,
     "metadata": {},
     "output_type": "execute_result"
    }
   ],
   "source": [
    "mikey.speak('Wang Wang')"
   ]
  },
  {
   "cell_type": "markdown",
   "metadata": {},
   "source": [
    "In the above, we define two functions/methods in Dog class. The 'description' function uses the object's name as input and print out a string. This is by default and to call this function, you don't need to specify the name of the object. The 'speak' function needs two inputs, (1) the object's name and (2) the 'sound'."
   ]
  },
  {
   "cell_type": "markdown",
   "metadata": {},
   "source": [
    "# A triangle class example"
   ]
  },
  {
   "cell_type": "markdown",
   "metadata": {},
   "source": [
    "The following is modified from [Exploratory Computing with Python](https://github.com/mbakker7/exploratory_computing_with_python) by Mark Bakker"
   ]
  },
  {
   "cell_type": "code",
   "execution_count": 24,
   "metadata": {},
   "outputs": [],
   "source": [
    "import numpy as np\n",
    "import matplotlib.pyplot as plt"
   ]
  },
  {
   "cell_type": "code",
   "execution_count": 25,
   "metadata": {},
   "outputs": [],
   "source": [
    "class Triangle:\n",
    "    def __init__(self, x0y0, x1y1, x2y2):\n",
    "        self.x0y0 = x0y0\n",
    "        self.x1y1 = x1y1\n",
    "        self.x2y2 = x2y2"
   ]
  },
  {
   "cell_type": "markdown",
   "metadata": {},
   "source": [
    "Now that the `Triangle` class is defined, we can start creating triangles. We can call the `Triangle` class just like a function and we need to provide it tuples of the three corner points. The `Triangle` class returns what is called an object. An object is an instance of a class. Note also, that when you type \n",
    "\n",
    "`Triangle(` \n",
    "\n",
    "and hit [shift][tab], a small box pops up showing what input arguments are expected (you don't need to provide the `self` argument; more on that later). Let's create a triangle with corners (0,1), (3,0) and (2,3)."
   ]
  },
  {
   "cell_type": "code",
   "execution_count": 26,
   "metadata": {},
   "outputs": [],
   "source": [
    "t1 = Triangle((0, 1), (3, 0), (2, 3))"
   ]
  },
  {
   "cell_type": "markdown",
   "metadata": {},
   "source": [
    "`t1` is now an instance of the class `Triangle`. We simply say that `t1` is a triangle. We have stored the three corner points of the triangle. Hence, each `Triangle` object has three attributes. You can find out what attributes an object has by typing \n",
    "\n",
    "`t1.` \n",
    "\n",
    "(don't forget the dot) and then hit the [TAB] key. The attributes can be accessed with the *dot syntax*."
   ]
  },
  {
   "cell_type": "code",
   "execution_count": 27,
   "metadata": {},
   "outputs": [
    {
     "name": "stdout",
     "output_type": "stream",
     "text": [
      "<__main__.Triangle object at 0x00000181810E8288>\n",
      "(0, 1)\n",
      "(3, 0)\n",
      "(2, 3)\n"
     ]
    }
   ],
   "source": [
    "print(t1)  # not very useful\n",
    "print(t1.x0y0)  # first corner point\n",
    "print(t1.x1y1)  # second corner point\n",
    "print(t1.x2y2)  # third corner point"
   ]
  },
  {
   "cell_type": "markdown",
   "metadata": {},
   "source": [
    "In the Triangle class, the three corner points are stored as three tuples. Hence, the $x$ value of the first corner point is `self.x0y0[0]` and the $y$ value is `self.x0y0[1]`. It may be useful to store one array of the three $x$ values of the three corner points and one array of the three $y$ values of the corner points. If those are stored, it is fairly easy to compute the area $A$ of a triangle using the following formula\n",
    "\n",
    "\\begin{equation}\n",
    "A = \\frac{1}{2}\\big|(x_0-x_2)(y_1-y_0) - (x_0-x_1)(y_2-y_0)\\big|\n",
    "\\end{equation}\n",
    "\n",
    "Let's modify the `Triangle` class to include these two additional attributes and an `area` function"
   ]
  },
  {
   "cell_type": "code",
   "execution_count": 28,
   "metadata": {},
   "outputs": [],
   "source": [
    "class Triangle:\n",
    "    def __init__(self, x0y0, x1y1, x2y2):\n",
    "        self.x0y0 = x0y0\n",
    "        self.x1y1 = x1y1\n",
    "        self.x2y2 = x2y2\n",
    "        self.x = np.array([self.x0y0[0], self.x1y1[0], self.x2y2[0]])\n",
    "        self.y = np.array([self.x0y0[1], self.x1y1[1], self.x2y2[1]])\n",
    "    def area(self):\n",
    "        area = 0.5 * np.abs((self.x[0] - self.x[2]) * (self.y[1] - self.y[0]) - \\\n",
    "                         (self.x[0] - self.x[1]) * (self.y[2] - self.y[0]))\n",
    "        self.A=area\n",
    "        return area"
   ]
  },
  {
   "cell_type": "markdown",
   "metadata": {},
   "source": [
    "Note that the `area` function gets passed the object `self`; once it knows what `self` is, it has access to all its attributes and functions. We can now create a `Triangle` object and compute its area as follows (don't forget to run the new `Triangle` class above first)"
   ]
  },
  {
   "cell_type": "code",
   "execution_count": 29,
   "metadata": {},
   "outputs": [
    {
     "name": "stdout",
     "output_type": "stream",
     "text": [
      "4.0\n"
     ]
    }
   ],
   "source": [
    "t1 = Triangle( (0,1), (3,0), (2,3) )\n",
    "print(t1.area())"
   ]
  },
  {
   "cell_type": "code",
   "execution_count": 30,
   "metadata": {},
   "outputs": [
    {
     "data": {
      "text/plain": [
       "4.0"
      ]
     },
     "execution_count": 30,
     "metadata": {},
     "output_type": "execute_result"
    }
   ],
   "source": [
    "t1.A"
   ]
  },
  {
   "cell_type": "markdown",
   "metadata": {},
   "source": [
    "In the code above, the `area` function is called using the *dot* syntax, where `self` in the function is automatically replaced with the variable before the dot (in this case `t1`). The *dot* syntax is short for the much longer"
   ]
  },
  {
   "cell_type": "code",
   "execution_count": 31,
   "metadata": {},
   "outputs": [
    {
     "name": "stdout",
     "output_type": "stream",
     "text": [
      "4.0\n"
     ]
    },
    {
     "data": {
      "text/plain": [
       "['A',\n",
       " '__class__',\n",
       " '__delattr__',\n",
       " '__dict__',\n",
       " '__dir__',\n",
       " '__doc__',\n",
       " '__eq__',\n",
       " '__format__',\n",
       " '__ge__',\n",
       " '__getattribute__',\n",
       " '__gt__',\n",
       " '__hash__',\n",
       " '__init__',\n",
       " '__init_subclass__',\n",
       " '__le__',\n",
       " '__lt__',\n",
       " '__module__',\n",
       " '__ne__',\n",
       " '__new__',\n",
       " '__reduce__',\n",
       " '__reduce_ex__',\n",
       " '__repr__',\n",
       " '__setattr__',\n",
       " '__sizeof__',\n",
       " '__str__',\n",
       " '__subclasshook__',\n",
       " '__weakref__',\n",
       " 'area',\n",
       " 'x',\n",
       " 'x0y0',\n",
       " 'x1y1',\n",
       " 'x2y2',\n",
       " 'y']"
      ]
     },
     "execution_count": 31,
     "metadata": {},
     "output_type": "execute_result"
    }
   ],
   "source": [
    "print(Triangle.area(t1))\n",
    "dir(t1)"
   ]
  },
  {
   "cell_type": "markdown",
   "metadata": {},
   "source": [
    "Note that classes are very convenient, as the triangle object knows what its own corner points are. When typing `t1.`[TAB], not only all attributes but also all functions of an object are shown. Another way is to use the `dir` function. "
   ]
  },
  {
   "cell_type": "markdown",
   "metadata": {},
   "source": [
    "Let's expand the `Triangle` class by adding a function that plots a filled triangle. The color of the triangle is supplied with a keyword argument in the constructor. Hence, when it is not provided, the default value will be used."
   ]
  },
  {
   "cell_type": "code",
   "execution_count": 33,
   "metadata": {},
   "outputs": [],
   "source": [
    "class Triangle:\n",
    "    def __init__(self, x0y0, x1y1, x2y2, color='b'):\n",
    "        self.x0y0 = x0y0\n",
    "        self.x1y1 = x1y1\n",
    "        self.x2y2 = x2y2\n",
    "        self.x = np.array([self.x0y0[0], self.x1y1[0], self.x2y2[0]])\n",
    "        self.y = np.array([self.x0y0[1], self.x1y1[1], self.x2y2[1]])\n",
    "        self.color = color\n",
    "    def area(self):\n",
    "        area = 0.5 * np.abs((self.x[0]-self.x[2])*(self.y[1]-self.y[0]) - \n",
    "                         (self.x[0]-self.x[1])*(self.y[2]-self.y[0]))\n",
    "        return area\n",
    "    def plot(self):\n",
    "        plt.fill(self.x, self.y, color=self.color)"
   ]
  },
  {
   "cell_type": "markdown",
   "metadata": {},
   "source": [
    "Let's create three triangles and store them in a list. Then we loop through the triangles in the list and plot them in one graph. Note how we can loop through the triangles in the list `tlist`:\n",
    "\n",
    "`for t in tlist:`\n",
    "\n",
    "So every time we go through the loop, `t` is the next triangle in the list `tlist`."
   ]
  },
  {
   "cell_type": "code",
   "execution_count": 34,
   "metadata": {},
   "outputs": [
    {
     "data": {
      "image/png": "[encoded data removed]",
      "text/plain": [
       "<Figure size 432x288 with 1 Axes>"
      ]
     },
     "metadata": {
      "needs_background": "light"
     },
     "output_type": "display_data"
    }
   ],
   "source": [
    "tlist = []  # start with an empty list\n",
    "t1 = Triangle((0, 1), (5, 0), (3, 3), 'b')\n",
    "tlist.append(t1)  # add t1 to the list\n",
    "t2 = Triangle((3, 4), (1, 6), (-2, 3), 'r')\n",
    "tlist.append(t2)\n",
    "t3 = Triangle((8, -1), (6, 4), (2, 6), 'g')\n",
    "tlist.append(t3)\n",
    "plt.figure()\n",
    "for t in tlist:\n",
    "    t.plot()\n",
    "plt.axis('scaled');"
   ]
  },
  {
   "cell_type": "markdown",
   "metadata": {},
   "source": [
    "Similarly, the total area of the three triangles is"
   ]
  },
  {
   "cell_type": "code",
   "execution_count": 35,
   "metadata": {},
   "outputs": [
    {
     "name": "stdout",
     "output_type": "stream",
     "text": [
      "6.5\n",
      "6.0\n",
      "8.0\n",
      "total area: 20.5\n"
     ]
    }
   ],
   "source": [
    "areatot = 0.0\n",
    "for t in tlist:\n",
    "    print(t.area())\n",
    "    areatot += t.area()\n",
    "print('total area:', areatot)"
   ]
  },
  {
   "cell_type": "markdown",
   "metadata": {},
   "source": [
    "# [Exercise 13](EX13-Class.ipynb)"
   ]
  }
 ],
 "metadata": {
  "kernelspec": {
   "display_name": "Python 3",
   "language": "python",
   "name": "python3"
  },
  "language_info": {
   "codemirror_mode": {
    "name": "ipython",
    "version": 3
   },
   "file_extension": ".py",
   "mimetype": "text/x-python",
   "name": "python",
   "nbconvert_exporter": "python",
   "pygments_lexer": "ipython3",
   "version": "3.8.3"
  }
 },
 "nbformat": 4,
 "nbformat_minor": 4
}
