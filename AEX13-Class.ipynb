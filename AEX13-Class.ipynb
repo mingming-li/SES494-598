{
 "cells": [
  {
   "cell_type": "markdown",
   "metadata": {},
   "source": [
    "# EX13 Class"
   ]
  },
  {
   "cell_type": "markdown",
   "metadata": {},
   "source": [
    "__(Question)__ Load the text file `circle_data.txt` using `np.loadtxt`. This file contains the $x$, $y$, and $R$ data for 20 circles.  Save it in `data`."
   ]
  },
  {
   "cell_type": "code",
   "execution_count": 1,
   "metadata": {
    "collapsed": false,
    "jupyter": {
     "outputs_hidden": false
    }
   },
   "outputs": [
    {
     "data": {
      "text/plain": [
       "array([[7.25193862, 3.00187141, 1.1533804 ],\n",
       "       [3.71622702, 2.67261589, 1.35403225],\n",
       "       [1.19582861, 6.24742792, 1.07549429],\n",
       "       [1.19964461, 3.03362282, 0.96419146],\n",
       "       [6.17936997, 0.56837355, 0.544707  ],\n",
       "       [0.97638136, 7.26178779, 0.54659028],\n",
       "       [6.84693609, 3.74367517, 0.49364551],\n",
       "       [0.44473983, 3.12040508, 1.35230447],\n",
       "       [8.84136208, 0.95682987, 1.25283539],\n",
       "       [3.33167034, 6.45431507, 0.74999319],\n",
       "       [9.58947017, 1.22100575, 0.75057871],\n",
       "       [4.56196065, 1.32389751, 1.11989204],\n",
       "       [4.06855917, 0.06406012, 0.97034666],\n",
       "       [5.3331392 , 7.22731977, 1.26829978],\n",
       "       [6.35528744, 0.87630603, 1.0278868 ],\n",
       "       [0.11518524, 8.19735042, 1.13503062],\n",
       "       [6.55756103, 1.57681423, 1.31681141],\n",
       "       [9.19961906, 6.06734013, 0.8910935 ],\n",
       "       [1.83329311, 5.78635631, 0.91969155],\n",
       "       [8.09042668, 4.49431641, 1.21477367]])"
      ]
     },
     "execution_count": 1,
     "metadata": {},
     "output_type": "execute_result"
    }
   ],
   "source": [
    "import numpy as np\n",
    "\n",
    "data = np.loadtxt('./data/circle_data.txt')\n",
    "data"
   ]
  },
  {
   "cell_type": "markdown",
   "metadata": {},
   "source": [
    "__(Question)__ Create a `Circle` class that stores the $(x,y)$ coordinates of the center of a circle and the radius $R$ of the circle. \n",
    "\n",
    "Class functions are: `area`, which returns the area of the circle and `plot`, which plots a filled circle using a transparancy of 0.5 (i.e., use keyword argument `alpha=0.5` in the `fill` function). \n",
    "\n",
    "The input argument of the `plot` function is a radius $R^*$. When the radius of the circle is less than $R^*$, fill the circle with the color blue. When the radius of the circle is larger than or equal to $R^*$, fill the circle with the color red. "
   ]
  },
  {
   "cell_type": "code",
   "execution_count": 3,
   "metadata": {
    "collapsed": false,
    "jupyter": {
     "outputs_hidden": false
    }
   },
   "outputs": [],
   "source": [
    "class Circle:\n",
    "    def __init__(self, x0, y0, R):\n",
    "        self.x0 = x0\n",
    "        self.y0 = y0\n",
    "        self.R = R\n",
    "    def area(self):\n",
    "        area = np.pi * self.R ** 2.\n",
    "        return area\n",
    "    def plot(self, Rstar):\n",
    "        if self.R < Rstar:\n",
    "            color = 'b'\n",
    "        else:\n",
    "            color = 'r'\n",
    "        alpha = np.linspace(0, 2 * np.pi, 100)\n",
    "        plt.fill(self.x0 + self.R * np.cos(alpha), self.y0 + self.R * np.sin(alpha), \n",
    "                 color=color, alpha=0.5)"
   ]
  },
  {
   "cell_type": "markdown",
   "metadata": {},
   "source": [
    "__(Question)__ Demonstrate that your `Circle` class works by  Compute and report the total area of all the circles in the file. Make a plot of the 20 circles to demonstrate that the colors are assigned correctly, using $R^*=1$."
   ]
  },
  {
   "cell_type": "code",
   "execution_count": 5,
   "metadata": {
    "collapsed": false,
    "jupyter": {
     "outputs_hidden": false
    }
   },
   "outputs": [
    {
     "name": "stdout",
     "output_type": "stream",
     "text": [
      "total area: 67.89637035591662\n"
     ]
    },
    {
     "data": {
      "image/png": "[encoded data removed]",
      "text/plain": [
       "<Figure size 432x288 with 1 Axes>"
      ]
     },
     "metadata": {
      "needs_background": "light"
     },
     "output_type": "display_data"
    }
   ],
   "source": [
    "import matplotlib.pyplot as plt\n",
    "%matplotlib inline\n",
    "\n",
    "clist = []\n",
    "for i in range(20):\n",
    "    c = Circle(data[i, 0], data[i, 1], data[i, 2])\n",
    "    clist.append(c)\n",
    "areatot = 0.0\n",
    "\n",
    "for c in clist:\n",
    "    areatot += c.area()\n",
    "    c.plot(1.2)\n",
    "plt.axis('scaled')\n",
    "print('total area:', areatot)"
   ]
  },
  {
   "cell_type": "code",
   "execution_count": null,
   "metadata": {},
   "outputs": [],
   "source": []
  }
 ],
 "metadata": {
  "anaconda-cloud": {},
  "kernelspec": {
   "display_name": "Python 3",
   "language": "python",
   "name": "python3"
  },
  "language_info": {
   "codemirror_mode": {
    "name": "ipython",
    "version": 3
   },
   "file_extension": ".py",
   "mimetype": "text/x-python",
   "name": "python",
   "nbconvert_exporter": "python",
   "pygments_lexer": "ipython3",
   "version": "3.7.4"
  },
  "latex_envs": {
   "LaTeX_envs_menu_present": true,
   "autocomplete": true,
   "bibliofile": "biblio.bib",
   "cite_by": "apalike",
   "current_citInitial": 1,
   "eqLabelWithNumbers": true,
   "eqNumInitial": 1,
   "hotkeys": {
    "equation": "Ctrl-E",
    "itemize": "Ctrl-I"
   },
   "labels_anchors": false,
   "latex_user_defs": false,
   "report_style_numbering": false,
   "user_envs_cfg": false
  }
 },
 "nbformat": 4,
 "nbformat_minor": 4
}
