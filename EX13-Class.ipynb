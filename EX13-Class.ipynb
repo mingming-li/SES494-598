{
 "cells": [
  {
   "cell_type": "markdown",
   "metadata": {},
   "source": [
    "# EX13 Class"
   ]
  },
  {
   "cell_type": "markdown",
   "metadata": {},
   "source": [
    "__(Question)__ Load the text file `circle_data.txt` using `np.loadtxt`. This file contains the $x$, $y$, and $R$ data for 20 circles.  Save it in `data`."
   ]
  },
  {
   "cell_type": "code",
   "execution_count": 5,
   "metadata": {
    "collapsed": false,
    "jupyter": {
     "outputs_hidden": false
    }
   },
   "outputs": [
    {
     "data": {
      "text/plain": [
       "array([[7.25193862, 3.00187141, 1.1533804 ],\n",
       "       [3.71622702, 2.67261589, 1.35403225],\n",
       "       [1.19582861, 6.24742792, 1.07549429],\n",
       "       [1.19964461, 3.03362282, 0.96419146],\n",
       "       [6.17936997, 0.56837355, 0.544707  ],\n",
       "       [0.97638136, 7.26178779, 0.54659028],\n",
       "       [6.84693609, 3.74367517, 0.49364551],\n",
       "       [0.44473983, 3.12040508, 1.35230447],\n",
       "       [8.84136208, 0.95682987, 1.25283539],\n",
       "       [3.33167034, 6.45431507, 0.74999319],\n",
       "       [9.58947017, 1.22100575, 0.75057871],\n",
       "       [4.56196065, 1.32389751, 1.11989204],\n",
       "       [4.06855917, 0.06406012, 0.97034666],\n",
       "       [5.3331392 , 7.22731977, 1.26829978],\n",
       "       [6.35528744, 0.87630603, 1.0278868 ],\n",
       "       [0.11518524, 8.19735042, 1.13503062],\n",
       "       [6.55756103, 1.57681423, 1.31681141],\n",
       "       [9.19961906, 6.06734013, 0.8910935 ],\n",
       "       [1.83329311, 5.78635631, 0.91969155],\n",
       "       [8.09042668, 4.49431641, 1.21477367]])"
      ]
     },
     "execution_count": 5,
     "metadata": {},
     "output_type": "execute_result"
    }
   ],
   "source": [
    "import numpy as np\n",
    "data=np.loadtxt('./data/circle_data.txt')\n",
    "data #print out the data to verify it is successfully loaded."
   ]
  },
  {
   "cell_type": "markdown",
   "metadata": {},
   "source": [
    "__(Question)__ Create a `Circle` class that stores the $(x,y)$ coordinates of the center of a circle and the radius $R$ of the circle. \n",
    "\n",
    "Class functions are: `area`, which returns the area of the circle and `plot`, which plots a filled circle using a transparancy of 0.5 (i.e., use keyword argument `alpha=0.5` in the `fill` function). \n",
    "\n",
    "The input argument of the `plot` function is a radius $R^*$. When the radius of the circle is less than $R^*$, fill the circle with the color blue. When the radius of the circle is larger than or equal to $R^*$, fill the circle with the color red. "
   ]
  },
  {
   "cell_type": "code",
   "execution_count": 6,
   "metadata": {
    "collapsed": false,
    "jupyter": {
     "outputs_hidden": false
    }
   },
   "outputs": [],
   "source": [
    "class Circle:\n",
    "    def __init__(self, x0, y0, R): #initial function, (x0,y0) is the center of the circle, and R is the radius\n",
    "        self.x0 = x0 # you need to complete this line\n",
    "        self.y0 = y0# you need to complete this line\n",
    "        self.R =  R # you need to complete this line\n",
    "    def area(self):\n",
    "        area = np.pi*self.R**2 # you need to complete this line. The area of a circle is defined as area=pi*R*R\n",
    "        return area\n",
    "    def plot(self, Rstar):  # Rstar is an input number\n",
    "        #you need to first generate the x and y points for a circle\n",
    "        #to convert polar coordinate (R, theta) to cartesian coordinate (x, y), use x=R*cos(theta) and y=R*sin(theta)\n",
    "        theta = np.linspace(0, 2 * np.pi, 100) \n",
    "        x= self.R*np.cos(theta)# you need to complete this line\n",
    "        y= self.R*np.sin(theta)# you need to complete this line\n",
    "        #shift the center of the circle\n",
    "        x+= self.x0# you need to complete this line\n",
    "        y+= self.y0# you need to complete this line\n",
    "        \n",
    "        #use if-else statement to decide which color for the circle, depending on the circle radius\n",
    "        #use plt.fill()function to plot circle\n",
    "        \n",
    "        # Put your codes below\n",
    "        if self.R<Rstar:\n",
    "            plt.fill(x,y,color='b',alpha=0.5)\n",
    "        else:\n",
    "            plt.fill(x,y,color='r',alpha=0.5)\n",
    "        \n",
    "        \n",
    "        "
   ]
  },
  {
   "cell_type": "markdown",
   "metadata": {},
   "source": [
    "__(Question)__ Demonstrate that your `Circle` class works by  Compute and report the total area of all the circles in the file. Make a plot of the 20 circles to demonstrate that the colors are assigned correctly, using $R^*=1$."
   ]
  },
  {
   "cell_type": "code",
   "execution_count": 20,
   "metadata": {},
   "outputs": [
    {
     "data": {
      "text/plain": [
       "20"
      ]
     },
     "execution_count": 20,
     "metadata": {},
     "output_type": "execute_result"
    }
   ],
   "source": [
    "len(data)"
   ]
  },
  {
   "cell_type": "code",
   "execution_count": 23,
   "metadata": {
    "collapsed": false,
    "jupyter": {
     "outputs_hidden": false
    }
   },
   "outputs": [
    {
     "name": "stdout",
     "output_type": "stream",
     "text": [
      "67.89637035591662\n"
     ]
    },
    {
     "data": {
      "text/plain": [
       "(-1.587240090584194, 10.908015018099944, -1.418084531241616, 9.844158300694817)"
      ]
     },
     "execution_count": 23,
     "metadata": {},
     "output_type": "execute_result"
    },
    {
     "data": {
      "image/png": "[encoded data removed]",
      "text/plain": [
       "<Figure size 432x288 with 1 Axes>"
      ]
     },
     "metadata": {
      "needs_background": "light"
     },
     "output_type": "display_data"
    }
   ],
   "source": [
    "import matplotlib.pyplot as plt\n",
    "%matplotlib inline\n",
    "#Put your code below\n",
    "\n",
    "total_area=0.0\n",
    "for i in range(0,len(data)):\n",
    "    c=Circle(data[i,0],data[i,1],data[i,2])\n",
    "    c.plot(1.0)\n",
    "    total_area+=c.area()\n",
    "\n",
    "print(total_area)\n",
    "#Put your code above\n",
    "plt.axis('scaled')"
   ]
  },
  {
   "cell_type": "code",
   "execution_count": 13,
   "metadata": {},
   "outputs": [
    {
     "data": {
      "text/plain": [
       "(7.251938619053853, 3.0018714062901406, 1.1533804030743462)"
      ]
     },
     "execution_count": 13,
     "metadata": {},
     "output_type": "execute_result"
    }
   ],
   "source": [
    "c.x0,c.y0,c.Rs"
   ]
  },
  {
   "cell_type": "code",
   "execution_count": 15,
   "metadata": {},
   "outputs": [
    {
     "data": {
      "text/plain": [
       "4.179217837512719"
      ]
     },
     "execution_count": 15,
     "metadata": {},
     "output_type": "execute_result"
    }
   ],
   "source": [
    "c.area()"
   ]
  },
  {
   "cell_type": "code",
   "execution_count": 17,
   "metadata": {},
   "outputs": [
    {
     "data": {
      "text/plain": [
       "(5.983829887728534, 8.520628028528183, 1.7333126594500259, 4.270430153130255)"
      ]
     },
     "execution_count": 17,
     "metadata": {},
     "output_type": "execute_result"
    },
    {
     "data": {
      "image/png": "[encoded data removed]",
      "text/plain": [
       "<Figure size 432x288 with 1 Axes>"
      ]
     },
     "metadata": {
      "needs_background": "light"
     },
     "output_type": "display_data"
    }
   ],
   "source": [
    "c.plot(1.0)\n",
    "plt.axis('scaled')"
   ]
  },
  {
   "cell_type": "code",
   "execution_count": null,
   "metadata": {},
   "outputs": [],
   "source": []
  }
 ],
 "metadata": {
  "anaconda-cloud": {},
  "kernelspec": {
   "display_name": "Python 3",
   "language": "python",
   "name": "python3"
  },
  "language_info": {
   "codemirror_mode": {
    "name": "ipython",
    "version": 3
   },
   "file_extension": ".py",
   "mimetype": "text/x-python",
   "name": "python",
   "nbconvert_exporter": "python",
   "pygments_lexer": "ipython3",
   "version": "3.8.3"
  },
  "latex_envs": {
   "LaTeX_envs_menu_present": true,
   "autocomplete": true,
   "bibliofile": "biblio.bib",
   "cite_by": "apalike",
   "current_citInitial": 1,
   "eqLabelWithNumbers": true,
   "eqNumInitial": 1,
   "hotkeys": {
    "equation": "Ctrl-E",
    "itemize": "Ctrl-I"
   },
   "labels_anchors": false,
   "latex_user_defs": false,
   "report_style_numbering": false,
   "user_envs_cfg": false
  }
 },
 "nbformat": 4,
 "nbformat_minor": 4
}
