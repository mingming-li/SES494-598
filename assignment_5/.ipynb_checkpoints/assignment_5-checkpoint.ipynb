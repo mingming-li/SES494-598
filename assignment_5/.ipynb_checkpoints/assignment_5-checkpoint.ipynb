{
 "cells": [
  {
   "cell_type": "markdown",
   "metadata": {},
   "source": [
    "# Assignment 5 (class)\n",
    "## (100 points)"
   ]
  },
  {
   "cell_type": "markdown",
   "metadata": {},
   "source": [
    "__(Instruction)__ The purpose of this assignment is to practice creating Class objects to improve the structure and readibility of your code.\n",
    "\n",
    "Due date: Nov 21th, 2020, 11:59pm. Points will be taken off for later homework according to 10% per day."
   ]
  },
  {
   "cell_type": "markdown",
   "metadata": {},
   "source": [
    "We discussed the following codes in class to read a list of seismograms using class objects. In this problem, you will need to add more functions to the `seismogram` class."
   ]
  },
  {
   "cell_type": "code",
   "execution_count": 1,
   "metadata": {},
   "outputs": [],
   "source": [
    "#define a class object name seismogram\n",
    "class seismogram:\n",
    "#the initial function will read the seismic data and save important information to attributes\n",
    "    def __init__(self,filename):\n",
    "        self.filename=filename\n",
    "        fp=open(self.filename,\"r\")\n",
    "        lines=fp.readlines()\n",
    "        fp.close()     \n",
    "        temp=lines[0].split()\n",
    "        self.freq=float(temp[0])\n",
    "        f=float(temp[0])\n",
    "        temp=lines[6].split()\n",
    "        self.lat=float(temp[1])\n",
    "        self.lon=float(temp[2])\n",
    "        temp=lines[10].split()\n",
    "        self.distance=float(temp[3])\n",
    "        temp=lines[14].split()\n",
    "        self.year=int(temp[0])\n",
    "        self.day=int(temp[1])\n",
    "        self.starttime=int(temp[2])*3600+int(temp[3])*60+int(temp[4])\n",
    "        temp=lines[22].split()\n",
    "        self.staname=temp[0]\n",
    "        data=[]\n",
    "        t=[]\n",
    "        j=0\n",
    "        for line in lines[30:]:\n",
    "            temp=line.split()\n",
    "            for i in temp:\n",
    "                data.append(float(i))\n",
    "                t.append(j)\n",
    "                j=j+f\n",
    "        self.data=np.array(data)\n",
    "        self.t=np.array(t)\n",
    "#add your function here.\n"
   ]
  },
  {
   "cell_type": "code",
   "execution_count": 2,
   "metadata": {},
   "outputs": [],
   "source": [
    "%matplotlib inline\n",
    "import numpy as np\n",
    "import matplotlib.pyplot as plt\n",
    "import glob\n",
    "import pandas as pd\n",
    "files=glob.glob(\"./data/2019-02-08-mww59-mindanao-philippines/*BHZ*\")\n",
    "#read all data\n",
    "sta=[]\n",
    "for f in files:\n",
    "    s=seismogram(f)\n",
    "    sta.append(s)"
   ]
  },
  {
   "cell_type": "markdown",
   "metadata": {},
   "source": [
    "(a) Write a function named 'max_amp' in the 'seismogram' class to calculate the maximum amplitude of each seismogram. Output the results by [Distance_from_earthquake,maximum_amplitude]. Note that the distance of defined in self.distance (30 points)"
   ]
  },
  {
   "cell_type": "code",
   "execution_count": null,
   "metadata": {},
   "outputs": [],
   "source": [
    "#Put your code here"
   ]
  },
  {
   "cell_type": "markdown",
   "metadata": {},
   "source": [
    "(b) plot the distance with maximum amplitude. Your figure should look the same as below: (10 points)\n"
   ]
  },
  {
   "cell_type": "code",
   "execution_count": null,
   "metadata": {},
   "outputs": [],
   "source": [
    "from IPython.display import Image\n",
    "Image(\"./eq1.png\")"
   ]
  },
  {
   "cell_type": "code",
   "execution_count": null,
   "metadata": {},
   "outputs": [],
   "source": [
    "#Put your code here"
   ]
  },
  {
   "cell_type": "markdown",
   "metadata": {},
   "source": [
    "(c) add a function name 'splot' in the seismogram class to plot the seismogram with time on the x axis and amplitude on the y axis. Make a plot for the first seismogram by running \"sta[0].splot()\" (20 points)"
   ]
  },
  {
   "cell_type": "raw",
   "metadata": {},
   "source": [
    "The following code needs to work after you modify the seismogram class."
   ]
  },
  {
   "cell_type": "code",
   "execution_count": null,
   "metadata": {},
   "outputs": [],
   "source": [
    "sta[0].splot()"
   ]
  },
  {
   "cell_type": "markdown",
   "metadata": {},
   "source": [
    "(d) Write a function to normalize the amplitude of each seismogram by the maximum amplitude. The following code needs to work correctly after you modify the seismogram class (20 points)"
   ]
  },
  {
   "cell_type": "code",
   "execution_count": null,
   "metadata": {},
   "outputs": [],
   "source": [
    "for s in sta:\n",
    "    s.max_amp()\n",
    "    s.normalize()"
   ]
  },
  {
   "cell_type": "markdown",
   "metadata": {},
   "source": [
    "(e) Make a plot for the first seismogram at station 'LVZ' after normalization, by running \"sta[0].splot()\" (10 points)"
   ]
  },
  {
   "cell_type": "raw",
   "metadata": {},
   "source": [
    "The following code needs to work after you modify the seismogram class."
   ]
  },
  {
   "cell_type": "code",
   "execution_count": null,
   "metadata": {},
   "outputs": [],
   "source": [
    "sta[0].splot()"
   ]
  },
  {
   "cell_type": "markdown",
   "metadata": {},
   "source": [
    "(e)  (20 points)\n",
    "* Write a function named 'resample' that takes one input as the sample rate to resample the time series data. For example, when I enter sta[0].resample(100), it will resample the first station data every 100 data points.\n",
    "* plot the data for the first seismic station, by running 'sta[0].splot()'"
   ]
  },
  {
   "cell_type": "raw",
   "metadata": {},
   "source": [
    "The following code needs to work after you modify the seismogram class."
   ]
  },
  {
   "cell_type": "code",
   "execution_count": null,
   "metadata": {},
   "outputs": [],
   "source": [
    "sta[0].resample(100)\n",
    "sta[0].splot()"
   ]
  },
  {
   "cell_type": "code",
   "execution_count": null,
   "metadata": {},
   "outputs": [],
   "source": []
  },
  {
   "cell_type": "code",
   "execution_count": null,
   "metadata": {},
   "outputs": [],
   "source": []
  }
 ],
 "metadata": {
  "kernelspec": {
   "display_name": "Python 3",
   "language": "python",
   "name": "python3"
  },
  "language_info": {
   "codemirror_mode": {
    "name": "ipython",
    "version": 3
   },
   "file_extension": ".py",
   "mimetype": "text/x-python",
   "name": "python",
   "nbconvert_exporter": "python",
   "pygments_lexer": "ipython3",
   "version": "3.7.4"
  }
 },
 "nbformat": 4,
 "nbformat_minor": 4
}
